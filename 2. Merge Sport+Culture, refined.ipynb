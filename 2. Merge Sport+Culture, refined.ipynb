{
 "cells": [
  {
   "cell_type": "code",
   "execution_count": 1504,
   "metadata": {},
   "outputs": [],
   "source": [
    "import pandas as pd\n",
    "pd.set_option('display.max_colwidth', -1)\n",
    "%matplotlib inline"
   ]
  },
  {
   "cell_type": "code",
   "execution_count": 1505,
   "metadata": {},
   "outputs": [],
   "source": [
    "culture = pd.read_csv('refine_df_12_16_LoRo.csv', usecols=[\"institution\", \"montant\", \"domaine\",\"details\",\"start\", \"end\"])\n",
    "sport = pd.read_csv('refined_df_sport_Loro.csv', usecols=[\"institution\", \"montant\", \"domaine\", \"start\", \"end\"])\n",
    "extra = pd.read_csv('sport_files_loro/Loro_extras.csv')\n",
    "extras_culture = pd.read_csv('extras_culture.csv')\n",
    "\n",
    "# ! Some nan values from \"details\" column after Google Refine"
   ]
  },
  {
   "cell_type": "code",
   "execution_count": 1506,
   "metadata": {},
   "outputs": [
    {
     "data": {
      "text/plain": [
       "3126"
      ]
     },
     "execution_count": 1506,
     "metadata": {},
     "output_type": "execute_result"
    }
   ],
   "source": [
    "len(culture)"
   ]
  },
  {
   "cell_type": "code",
   "execution_count": 1507,
   "metadata": {},
   "outputs": [
    {
     "data": {
      "text/plain": [
       "4136"
      ]
     },
     "execution_count": 1507,
     "metadata": {},
     "output_type": "execute_result"
    }
   ],
   "source": [
    "len(sport)"
   ]
  },
  {
   "cell_type": "code",
   "execution_count": 1508,
   "metadata": {},
   "outputs": [
    {
     "data": {
      "text/html": [
       "<div>\n",
       "<style scoped>\n",
       "    .dataframe tbody tr th:only-of-type {\n",
       "        vertical-align: middle;\n",
       "    }\n",
       "\n",
       "    .dataframe tbody tr th {\n",
       "        vertical-align: top;\n",
       "    }\n",
       "\n",
       "    .dataframe thead th {\n",
       "        text-align: right;\n",
       "    }\n",
       "</style>\n",
       "<table border=\"1\" class=\"dataframe\">\n",
       "  <thead>\n",
       "    <tr style=\"text-align: right;\">\n",
       "      <th></th>\n",
       "      <th>institution</th>\n",
       "      <th>montant</th>\n",
       "      <th>start</th>\n",
       "      <th>end</th>\n",
       "      <th>domaine</th>\n",
       "    </tr>\n",
       "  </thead>\n",
       "  <tbody>\n",
       "    <tr>\n",
       "      <th>0</th>\n",
       "      <td>MCBA</td>\n",
       "      <td>5000000</td>\n",
       "      <td>2016</td>\n",
       "      <td>2017</td>\n",
       "      <td>extra_culture</td>\n",
       "    </tr>\n",
       "    <tr>\n",
       "      <th>1</th>\n",
       "      <td>Plateforme10</td>\n",
       "      <td>10000000</td>\n",
       "      <td>2017</td>\n",
       "      <td>2018</td>\n",
       "      <td>extra_culture</td>\n",
       "    </tr>\n",
       "  </tbody>\n",
       "</table>\n",
       "</div>"
      ],
      "text/plain": [
       "    institution   montant  start   end        domaine\n",
       "0  MCBA          5000000   2016   2017  extra_culture\n",
       "1  Plateforme10  10000000  2017   2018  extra_culture"
      ]
     },
     "execution_count": 1508,
     "metadata": {},
     "output_type": "execute_result"
    }
   ],
   "source": [
    "extras_culture"
   ]
  },
  {
   "cell_type": "markdown",
   "metadata": {},
   "source": [
    "## Add column based on source"
   ]
  },
  {
   "cell_type": "code",
   "execution_count": 1509,
   "metadata": {},
   "outputs": [],
   "source": [
    "culture['source'] = 'Organe cantonal'\n",
    "sport['source'] = 'FFSV'\n",
    "extra['source'] = 'FFSV'\n",
    "extras_culture['source'] = 'Organe cantonal'"
   ]
  },
  {
   "cell_type": "markdown",
   "metadata": {},
   "source": [
    "## Merge"
   ]
  },
  {
   "cell_type": "code",
   "execution_count": 1510,
   "metadata": {},
   "outputs": [],
   "source": [
    "df_all = pd.concat([culture, sport, extra, extras_culture])"
   ]
  },
  {
   "cell_type": "code",
   "execution_count": 1511,
   "metadata": {},
   "outputs": [
    {
     "data": {
      "text/plain": [
       "7269"
      ]
     },
     "execution_count": 1511,
     "metadata": {},
     "output_type": "execute_result"
    }
   ],
   "source": [
    "len(df_all)"
   ]
  },
  {
   "cell_type": "code",
   "execution_count": 1605,
   "metadata": {},
   "outputs": [
    {
     "data": {
      "text/html": [
       "<div>\n",
       "<style scoped>\n",
       "    .dataframe tbody tr th:only-of-type {\n",
       "        vertical-align: middle;\n",
       "    }\n",
       "\n",
       "    .dataframe tbody tr th {\n",
       "        vertical-align: top;\n",
       "    }\n",
       "\n",
       "    .dataframe thead th {\n",
       "        text-align: right;\n",
       "    }\n",
       "</style>\n",
       "<table border=\"1\" class=\"dataframe\">\n",
       "  <thead>\n",
       "    <tr style=\"text-align: right;\">\n",
       "      <th></th>\n",
       "      <th>details</th>\n",
       "      <th>domaine</th>\n",
       "      <th>end</th>\n",
       "      <th>institution</th>\n",
       "      <th>montant</th>\n",
       "      <th>source</th>\n",
       "      <th>start</th>\n",
       "    </tr>\n",
       "  </thead>\n",
       "  <tbody>\n",
       "    <tr>\n",
       "      <th>615</th>\n",
       "      <td>NaN</td>\n",
       "      <td>9.-Centres sportifs</td>\n",
       "      <td>2016</td>\n",
       "      <td>Fdt Ruchonnet 18 - Avance pour paiment des factures de la Maison du sport vaud. à Leysin</td>\n",
       "      <td>3447325.0</td>\n",
       "      <td>FFSV</td>\n",
       "      <td>2015</td>\n",
       "    </tr>\n",
       "    <tr>\n",
       "      <th>1269</th>\n",
       "      <td>NaN</td>\n",
       "      <td>9.-Centres sportifs</td>\n",
       "      <td>2015</td>\n",
       "      <td>Fdt Ruchonnet 18 - Avance pour paiment des factures de la Maison du sport vaud. à Leysin</td>\n",
       "      <td>2002484.0</td>\n",
       "      <td>FFSV</td>\n",
       "      <td>2014</td>\n",
       "    </tr>\n",
       "    <tr>\n",
       "      <th>2025</th>\n",
       "      <td>NaN</td>\n",
       "      <td>9.-Centres sportifs</td>\n",
       "      <td>2018</td>\n",
       "      <td>Fdt Ruchonnet 18 - Avance pour paiment des factures de la Maison du sport vaud. à Leysin</td>\n",
       "      <td>270000.0</td>\n",
       "      <td>FFSV</td>\n",
       "      <td>2017</td>\n",
       "    </tr>\n",
       "    <tr>\n",
       "      <th>2696</th>\n",
       "      <td>NaN</td>\n",
       "      <td>9.-Centres sportifs</td>\n",
       "      <td>2014</td>\n",
       "      <td>Fdt Ruchonnet 18 - Avance pour paiment des factures de la Maison du sport vaud. à Leysin</td>\n",
       "      <td>2000000.0</td>\n",
       "      <td>FFSV</td>\n",
       "      <td>2013</td>\n",
       "    </tr>\n",
       "    <tr>\n",
       "      <th>3401</th>\n",
       "      <td>NaN</td>\n",
       "      <td>9.-Centres sportifs</td>\n",
       "      <td>2017</td>\n",
       "      <td>Fdt Ruchonnet 18 - Avance pour paiment des factures de la Maison du sport vaud. à Leysin</td>\n",
       "      <td>5400000.0</td>\n",
       "      <td>FFSV</td>\n",
       "      <td>2016</td>\n",
       "    </tr>\n",
       "    <tr>\n",
       "      <th>4134</th>\n",
       "      <td>NaN</td>\n",
       "      <td>9.-Centres sportifs</td>\n",
       "      <td>2013</td>\n",
       "      <td>Fdt Ruchonnet 18 - Avance pour paiment des factures de la Maison du sport vaud. à Leysin</td>\n",
       "      <td>1000000.0</td>\n",
       "      <td>FFSV</td>\n",
       "      <td>2012</td>\n",
       "    </tr>\n",
       "  </tbody>\n",
       "</table>\n",
       "</div>"
      ],
      "text/plain": [
       "     details              domaine   end  \\\n",
       "615   NaN     9.-Centres sportifs  2016   \n",
       "1269  NaN     9.-Centres sportifs  2015   \n",
       "2025  NaN     9.-Centres sportifs  2018   \n",
       "2696  NaN     9.-Centres sportifs  2014   \n",
       "3401  NaN     9.-Centres sportifs  2017   \n",
       "4134  NaN     9.-Centres sportifs  2013   \n",
       "\n",
       "                                                                                   institution  \\\n",
       "615   Fdt Ruchonnet 18 - Avance pour paiment des factures de la Maison du sport vaud. à Leysin   \n",
       "1269  Fdt Ruchonnet 18 - Avance pour paiment des factures de la Maison du sport vaud. à Leysin   \n",
       "2025  Fdt Ruchonnet 18 - Avance pour paiment des factures de la Maison du sport vaud. à Leysin   \n",
       "2696  Fdt Ruchonnet 18 - Avance pour paiment des factures de la Maison du sport vaud. à Leysin   \n",
       "3401  Fdt Ruchonnet 18 - Avance pour paiment des factures de la Maison du sport vaud. à Leysin   \n",
       "4134  Fdt Ruchonnet 18 - Avance pour paiment des factures de la Maison du sport vaud. à Leysin   \n",
       "\n",
       "        montant source  start  \n",
       "615   3447325.0  FFSV   2015   \n",
       "1269  2002484.0  FFSV   2014   \n",
       "2025  270000.0   FFSV   2017   \n",
       "2696  2000000.0  FFSV   2013   \n",
       "3401  5400000.0  FFSV   2016   \n",
       "4134  1000000.0  FFSV   2012   "
      ]
     },
     "execution_count": 1605,
     "metadata": {},
     "output_type": "execute_result"
    }
   ],
   "source": [
    "df_all[df_all['institution'].str.contains('Ruchonnet')]"
   ]
  },
  {
   "cell_type": "markdown",
   "metadata": {},
   "source": [
    "## Limit 2012-2016"
   ]
  },
  {
   "cell_type": "code",
   "execution_count": 1513,
   "metadata": {},
   "outputs": [],
   "source": [
    "df = df_all[(df_all['start'] >= 2012)]\n",
    "df = df[df['end'] <= 2017]"
   ]
  },
  {
   "cell_type": "code",
   "execution_count": 1514,
   "metadata": {},
   "outputs": [
    {
     "data": {
      "text/plain": [
       "6511"
      ]
     },
     "execution_count": 1514,
     "metadata": {},
     "output_type": "execute_result"
    }
   ],
   "source": [
    "len(df)"
   ]
  },
  {
   "cell_type": "code",
   "execution_count": 1515,
   "metadata": {},
   "outputs": [
    {
     "data": {
      "text/plain": [
       "2016    1358\n",
       "2012    1333\n",
       "2013    1305\n",
       "2014    1272\n",
       "2015    1243\n",
       "Name: start, dtype: int64"
      ]
     },
     "execution_count": 1515,
     "metadata": {},
     "output_type": "execute_result"
    }
   ],
   "source": [
    "df['start'].value_counts()"
   ]
  },
  {
   "cell_type": "code",
   "execution_count": 1606,
   "metadata": {},
   "outputs": [
    {
     "data": {
      "text/plain": [
       "13849809.0"
      ]
     },
     "execution_count": 1606,
     "metadata": {},
     "output_type": "execute_result"
    }
   ],
   "source": [
    "df[df['institution'].str.contains(\"Ruchonnet\")]['montant'].sum()"
   ]
  },
  {
   "cell_type": "code",
   "execution_count": 1517,
   "metadata": {},
   "outputs": [
    {
     "data": {
      "text/html": [
       "<div>\n",
       "<style scoped>\n",
       "    .dataframe tbody tr th:only-of-type {\n",
       "        vertical-align: middle;\n",
       "    }\n",
       "\n",
       "    .dataframe tbody tr th {\n",
       "        vertical-align: top;\n",
       "    }\n",
       "\n",
       "    .dataframe thead th {\n",
       "        text-align: right;\n",
       "    }\n",
       "</style>\n",
       "<table border=\"1\" class=\"dataframe\">\n",
       "  <thead>\n",
       "    <tr style=\"text-align: right;\">\n",
       "      <th></th>\n",
       "      <th>details</th>\n",
       "      <th>domaine</th>\n",
       "      <th>end</th>\n",
       "      <th>institution</th>\n",
       "      <th>montant</th>\n",
       "      <th>source</th>\n",
       "      <th>start</th>\n",
       "    </tr>\n",
       "  </thead>\n",
       "  <tbody>\n",
       "    <tr>\n",
       "      <th>129</th>\n",
       "      <td>NaN</td>\n",
       "      <td>3.-Locaux sportifs</td>\n",
       "      <td>2016</td>\n",
       "      <td>Commune d'Aubonne - Réfection du terrain de beach-volley de la piscine communale</td>\n",
       "      <td>1700.0</td>\n",
       "      <td>FFSV</td>\n",
       "      <td>2015</td>\n",
       "    </tr>\n",
       "    <tr>\n",
       "      <th>130</th>\n",
       "      <td>NaN</td>\n",
       "      <td>3.-Locaux sportifs</td>\n",
       "      <td>2016</td>\n",
       "      <td>Commune de Cheseaux-sur-Lausanne</td>\n",
       "      <td>40000.0</td>\n",
       "      <td>FFSV</td>\n",
       "      <td>2015</td>\n",
       "    </tr>\n",
       "    <tr>\n",
       "      <th>131</th>\n",
       "      <td>NaN</td>\n",
       "      <td>3.-Locaux sportifs</td>\n",
       "      <td>2016</td>\n",
       "      <td>Commune de Gryon - Rénovation de deux courts de tennis extérieurs</td>\n",
       "      <td>27200.0</td>\n",
       "      <td>FFSV</td>\n",
       "      <td>2015</td>\n",
       "    </tr>\n",
       "    <tr>\n",
       "      <th>132</th>\n",
       "      <td>NaN</td>\n",
       "      <td>3.-Locaux sportifs</td>\n",
       "      <td>2016</td>\n",
       "      <td>Commune de Lausanne</td>\n",
       "      <td>100000.0</td>\n",
       "      <td>FFSV</td>\n",
       "      <td>2015</td>\n",
       "    </tr>\n",
       "    <tr>\n",
       "      <th>133</th>\n",
       "      <td>NaN</td>\n",
       "      <td>3.-Locaux sportifs</td>\n",
       "      <td>2016</td>\n",
       "      <td>Commune de Lausanne</td>\n",
       "      <td>65000.0</td>\n",
       "      <td>FFSV</td>\n",
       "      <td>2015</td>\n",
       "    </tr>\n",
       "    <tr>\n",
       "      <th>134</th>\n",
       "      <td>NaN</td>\n",
       "      <td>3.-Locaux sportifs</td>\n",
       "      <td>2016</td>\n",
       "      <td>Commune de Lausanne</td>\n",
       "      <td>4240.0</td>\n",
       "      <td>FFSV</td>\n",
       "      <td>2015</td>\n",
       "    </tr>\n",
       "    <tr>\n",
       "      <th>135</th>\n",
       "      <td>NaN</td>\n",
       "      <td>3.-Locaux sportifs</td>\n",
       "      <td>2016</td>\n",
       "      <td>Commune de Moudon</td>\n",
       "      <td>7900.0</td>\n",
       "      <td>FFSV</td>\n",
       "      <td>2015</td>\n",
       "    </tr>\n",
       "    <tr>\n",
       "      <th>136</th>\n",
       "      <td>NaN</td>\n",
       "      <td>3.-Locaux sportifs</td>\n",
       "      <td>2016</td>\n",
       "      <td>Commune de Rolle - Rénovation de deux courts de tennis extérieurs et d'un mur d'entraînement</td>\n",
       "      <td>64000.0</td>\n",
       "      <td>FFSV</td>\n",
       "      <td>2015</td>\n",
       "    </tr>\n",
       "    <tr>\n",
       "      <th>137</th>\n",
       "      <td>NaN</td>\n",
       "      <td>3.-Locaux sportifs</td>\n",
       "      <td>2016</td>\n",
       "      <td>Commune de Romanel -s/Lsne - Mise à neuf de l'entier des équip. de l'éclairage du terrain de football</td>\n",
       "      <td>8130.0</td>\n",
       "      <td>FFSV</td>\n",
       "      <td>2015</td>\n",
       "    </tr>\n",
       "    <tr>\n",
       "      <th>138</th>\n",
       "      <td>NaN</td>\n",
       "      <td>3.-Locaux sportifs</td>\n",
       "      <td>2016</td>\n",
       "      <td>Commune de Saint-Barthélemy</td>\n",
       "      <td>20000.0</td>\n",
       "      <td>FFSV</td>\n",
       "      <td>2015</td>\n",
       "    </tr>\n",
       "    <tr>\n",
       "      <th>139</th>\n",
       "      <td>NaN</td>\n",
       "      <td>3.-Locaux sportifs</td>\n",
       "      <td>2016</td>\n",
       "      <td>Commune de Servion - Création d'un skate-park sur la place de jeux aux Cullayes</td>\n",
       "      <td>24200.0</td>\n",
       "      <td>FFSV</td>\n",
       "      <td>2015</td>\n",
       "    </tr>\n",
       "    <tr>\n",
       "      <th>140</th>\n",
       "      <td>NaN</td>\n",
       "      <td>3.-Locaux sportifs</td>\n",
       "      <td>2016</td>\n",
       "      <td>Commune de Signy-Avenex - Création d'un terrain multisports</td>\n",
       "      <td>38200.0</td>\n",
       "      <td>FFSV</td>\n",
       "      <td>2015</td>\n",
       "    </tr>\n",
       "    <tr>\n",
       "      <th>141</th>\n",
       "      <td>NaN</td>\n",
       "      <td>3.-Locaux sportifs</td>\n",
       "      <td>2016</td>\n",
       "      <td>Commune de Yens - Réfection du terrain de sport du Collège du Rossé</td>\n",
       "      <td>13000.0</td>\n",
       "      <td>FFSV</td>\n",
       "      <td>2015</td>\n",
       "    </tr>\n",
       "    <tr>\n",
       "      <th>142</th>\n",
       "      <td>NaN</td>\n",
       "      <td>3.-Locaux sportifs</td>\n",
       "      <td>2016</td>\n",
       "      <td>Commune d'Echichens</td>\n",
       "      <td>97000.0</td>\n",
       "      <td>FFSV</td>\n",
       "      <td>2015</td>\n",
       "    </tr>\n",
       "    <tr>\n",
       "      <th>143</th>\n",
       "      <td>NaN</td>\n",
       "      <td>3.-Locaux sportifs</td>\n",
       "      <td>2016</td>\n",
       "      <td>Commune du Mont-sur-Lausanne</td>\n",
       "      <td>26700.0</td>\n",
       "      <td>FFSV</td>\n",
       "      <td>2015</td>\n",
       "    </tr>\n",
       "    <tr>\n",
       "      <th>144</th>\n",
       "      <td>NaN</td>\n",
       "      <td>3.-Locaux sportifs</td>\n",
       "      <td>2016</td>\n",
       "      <td>Commune d'Yverdon-les-Bains</td>\n",
       "      <td>130000.0</td>\n",
       "      <td>FFSV</td>\n",
       "      <td>2015</td>\n",
       "    </tr>\n",
       "    <tr>\n",
       "      <th>176</th>\n",
       "      <td>NaN</td>\n",
       "      <td>4.-Matériel sportif</td>\n",
       "      <td>2016</td>\n",
       "      <td>Commune de Lausanne</td>\n",
       "      <td>4780.0</td>\n",
       "      <td>FFSV</td>\n",
       "      <td>2015</td>\n",
       "    </tr>\n",
       "    <tr>\n",
       "      <th>212</th>\n",
       "      <td>NaN</td>\n",
       "      <td>4.-Matériel sportif</td>\n",
       "      <td>2016</td>\n",
       "      <td>Commune de Lausanne</td>\n",
       "      <td>850.0</td>\n",
       "      <td>FFSV</td>\n",
       "      <td>2015</td>\n",
       "    </tr>\n",
       "    <tr>\n",
       "      <th>213</th>\n",
       "      <td>NaN</td>\n",
       "      <td>4.-Matériel sportif</td>\n",
       "      <td>2016</td>\n",
       "      <td>Commune de Lausanne</td>\n",
       "      <td>830.0</td>\n",
       "      <td>FFSV</td>\n",
       "      <td>2015</td>\n",
       "    </tr>\n",
       "    <tr>\n",
       "      <th>302</th>\n",
       "      <td>NaN</td>\n",
       "      <td>5.-Manifestation sportives</td>\n",
       "      <td>2016</td>\n",
       "      <td>Comm. sports de la Commune de Bex - Org. de manifestations sportives - Semaine \"La Suisse bouge\"</td>\n",
       "      <td>1500.0</td>\n",
       "      <td>FFSV</td>\n",
       "      <td>2015</td>\n",
       "    </tr>\n",
       "    <tr>\n",
       "      <th>307</th>\n",
       "      <td>NaN</td>\n",
       "      <td>5.-Manifestation sportives</td>\n",
       "      <td>2016</td>\n",
       "      <td>Commune de Blonay - Duel intercommunal dans le cadre de l'action \"La Suisse bouge\"</td>\n",
       "      <td>1000.0</td>\n",
       "      <td>FFSV</td>\n",
       "      <td>2015</td>\n",
       "    </tr>\n",
       "    <tr>\n",
       "      <th>308</th>\n",
       "      <td>NaN</td>\n",
       "      <td>5.-Manifestation sportives</td>\n",
       "      <td>2016</td>\n",
       "      <td>Commune de Montreux - Finales de la Coupe de la Ligue de basketball à Montreux</td>\n",
       "      <td>5000.0</td>\n",
       "      <td>FFSV</td>\n",
       "      <td>2015</td>\n",
       "    </tr>\n",
       "    <tr>\n",
       "      <th>309</th>\n",
       "      <td>NaN</td>\n",
       "      <td>5.-Manifestation sportives</td>\n",
       "      <td>2016</td>\n",
       "      <td>Commune de Montreux - Journée \"La Suisse bouge\" à Clarens</td>\n",
       "      <td>1000.0</td>\n",
       "      <td>FFSV</td>\n",
       "      <td>2015</td>\n",
       "    </tr>\n",
       "    <tr>\n",
       "      <th>310</th>\n",
       "      <td>NaN</td>\n",
       "      <td>5.-Manifestation sportives</td>\n",
       "      <td>2016</td>\n",
       "      <td>Commune de Morges</td>\n",
       "      <td>2500.0</td>\n",
       "      <td>FFSV</td>\n",
       "      <td>2015</td>\n",
       "    </tr>\n",
       "    <tr>\n",
       "      <th>498</th>\n",
       "      <td>NaN</td>\n",
       "      <td>5.-Manifestation sportives</td>\n",
       "      <td>2016</td>\n",
       "      <td>Commune de Vevey</td>\n",
       "      <td>1500.0</td>\n",
       "      <td>FFSV</td>\n",
       "      <td>2015</td>\n",
       "    </tr>\n",
       "    <tr>\n",
       "      <th>722</th>\n",
       "      <td>NaN</td>\n",
       "      <td>3.-Locaux sportifs</td>\n",
       "      <td>2015</td>\n",
       "      <td>Commune d'Apples - Réfection des vestiaires du terrain de football des Planches</td>\n",
       "      <td>135000.0</td>\n",
       "      <td>FFSV</td>\n",
       "      <td>2014</td>\n",
       "    </tr>\n",
       "    <tr>\n",
       "      <th>723</th>\n",
       "      <td>NaN</td>\n",
       "      <td>3.-Locaux sportifs</td>\n",
       "      <td>2015</td>\n",
       "      <td>Commune d'Avenches</td>\n",
       "      <td>200000.0</td>\n",
       "      <td>FFSV</td>\n",
       "      <td>2014</td>\n",
       "    </tr>\n",
       "    <tr>\n",
       "      <th>724</th>\n",
       "      <td>NaN</td>\n",
       "      <td>3.-Locaux sportifs</td>\n",
       "      <td>2015</td>\n",
       "      <td>Commune de Château-d'Oex</td>\n",
       "      <td>30000.0</td>\n",
       "      <td>FFSV</td>\n",
       "      <td>2014</td>\n",
       "    </tr>\n",
       "    <tr>\n",
       "      <th>725</th>\n",
       "      <td>NaN</td>\n",
       "      <td>3.-Locaux sportifs</td>\n",
       "      <td>2015</td>\n",
       "      <td>Commune de Chexbres - Réfection de la place multisports de Champ de Clos</td>\n",
       "      <td>12000.0</td>\n",
       "      <td>FFSV</td>\n",
       "      <td>2014</td>\n",
       "    </tr>\n",
       "    <tr>\n",
       "      <th>726</th>\n",
       "      <td>NaN</td>\n",
       "      <td>3.-Locaux sportifs</td>\n",
       "      <td>2015</td>\n",
       "      <td>Commune de Crissier - Transformation et rénovation des locaux du centre sportif de la Ruayre - Solde</td>\n",
       "      <td>33000.0</td>\n",
       "      <td>FFSV</td>\n",
       "      <td>2014</td>\n",
       "    </tr>\n",
       "    <tr>\n",
       "      <th>...</th>\n",
       "      <td>...</td>\n",
       "      <td>...</td>\n",
       "      <td>...</td>\n",
       "      <td>...</td>\n",
       "      <td>...</td>\n",
       "      <td>...</td>\n",
       "      <td>...</td>\n",
       "    </tr>\n",
       "    <tr>\n",
       "      <th>3569</th>\n",
       "      <td>NaN</td>\n",
       "      <td>3.-Locaux sportifs</td>\n",
       "      <td>2013</td>\n",
       "      <td>Commune de La Sarraz</td>\n",
       "      <td>85000.0</td>\n",
       "      <td>FFSV</td>\n",
       "      <td>2012</td>\n",
       "    </tr>\n",
       "    <tr>\n",
       "      <th>3570</th>\n",
       "      <td>NaN</td>\n",
       "      <td>3.-Locaux sportifs</td>\n",
       "      <td>2013</td>\n",
       "      <td>Commune de La Sarraz</td>\n",
       "      <td>12000.0</td>\n",
       "      <td>FFSV</td>\n",
       "      <td>2012</td>\n",
       "    </tr>\n",
       "    <tr>\n",
       "      <th>3571</th>\n",
       "      <td>NaN</td>\n",
       "      <td>3.-Locaux sportifs</td>\n",
       "      <td>2013</td>\n",
       "      <td>Commune de Prangins</td>\n",
       "      <td>9340.0</td>\n",
       "      <td>FFSV</td>\n",
       "      <td>2012</td>\n",
       "    </tr>\n",
       "    <tr>\n",
       "      <th>3573</th>\n",
       "      <td>NaN</td>\n",
       "      <td>3.-Locaux sportifs</td>\n",
       "      <td>2013</td>\n",
       "      <td>Commune de Bex</td>\n",
       "      <td>110000.0</td>\n",
       "      <td>FFSV</td>\n",
       "      <td>2012</td>\n",
       "    </tr>\n",
       "    <tr>\n",
       "      <th>3575</th>\n",
       "      <td>NaN</td>\n",
       "      <td>3.-Locaux sportifs</td>\n",
       "      <td>2013</td>\n",
       "      <td>Commune de Préverenges - Construction de trois terrains de beach-volley</td>\n",
       "      <td>57000.0</td>\n",
       "      <td>FFSV</td>\n",
       "      <td>2012</td>\n",
       "    </tr>\n",
       "    <tr>\n",
       "      <th>3577</th>\n",
       "      <td>NaN</td>\n",
       "      <td>3.-Locaux sportifs</td>\n",
       "      <td>2013</td>\n",
       "      <td>Commune de Vevey</td>\n",
       "      <td>522000.0</td>\n",
       "      <td>FFSV</td>\n",
       "      <td>2012</td>\n",
       "    </tr>\n",
       "    <tr>\n",
       "      <th>3578</th>\n",
       "      <td>NaN</td>\n",
       "      <td>3.-Locaux sportifs</td>\n",
       "      <td>2013</td>\n",
       "      <td>Commune de Vevey</td>\n",
       "      <td>600000.0</td>\n",
       "      <td>FFSV</td>\n",
       "      <td>2012</td>\n",
       "    </tr>\n",
       "    <tr>\n",
       "      <th>3579</th>\n",
       "      <td>NaN</td>\n",
       "      <td>3.-Locaux sportifs</td>\n",
       "      <td>2013</td>\n",
       "      <td>Commune de Vevey</td>\n",
       "      <td>285000.0</td>\n",
       "      <td>FFSV</td>\n",
       "      <td>2012</td>\n",
       "    </tr>\n",
       "    <tr>\n",
       "      <th>3580</th>\n",
       "      <td>NaN</td>\n",
       "      <td>3.-Locaux sportifs</td>\n",
       "      <td>2013</td>\n",
       "      <td>Commune de Renens</td>\n",
       "      <td>90000.0</td>\n",
       "      <td>FFSV</td>\n",
       "      <td>2012</td>\n",
       "    </tr>\n",
       "    <tr>\n",
       "      <th>3581</th>\n",
       "      <td>NaN</td>\n",
       "      <td>3.-Locaux sportifs</td>\n",
       "      <td>2013</td>\n",
       "      <td>Commune de Château-d'Oex</td>\n",
       "      <td>62000.0</td>\n",
       "      <td>FFSV</td>\n",
       "      <td>2012</td>\n",
       "    </tr>\n",
       "    <tr>\n",
       "      <th>3585</th>\n",
       "      <td>NaN</td>\n",
       "      <td>3.-Locaux sportifs</td>\n",
       "      <td>2013</td>\n",
       "      <td>Commune du Mont-sur-Lausanne</td>\n",
       "      <td>19000.0</td>\n",
       "      <td>FFSV</td>\n",
       "      <td>2012</td>\n",
       "    </tr>\n",
       "    <tr>\n",
       "      <th>3588</th>\n",
       "      <td>NaN</td>\n",
       "      <td>3.-Locaux sportifs</td>\n",
       "      <td>2013</td>\n",
       "      <td>Commune de Penthalaz</td>\n",
       "      <td>14000.0</td>\n",
       "      <td>FFSV</td>\n",
       "      <td>2012</td>\n",
       "    </tr>\n",
       "    <tr>\n",
       "      <th>3589</th>\n",
       "      <td>NaN</td>\n",
       "      <td>3.-Locaux sportifs</td>\n",
       "      <td>2013</td>\n",
       "      <td>Commune du Mont-sur-Lausanne</td>\n",
       "      <td>1850.0</td>\n",
       "      <td>FFSV</td>\n",
       "      <td>2012</td>\n",
       "    </tr>\n",
       "    <tr>\n",
       "      <th>3590</th>\n",
       "      <td>NaN</td>\n",
       "      <td>3.-Locaux sportifs</td>\n",
       "      <td>2013</td>\n",
       "      <td>Commune d'Etoy - Soutien pour la création d'un skatepark près de la salle polyvalente</td>\n",
       "      <td>19900.0</td>\n",
       "      <td>FFSV</td>\n",
       "      <td>2012</td>\n",
       "    </tr>\n",
       "    <tr>\n",
       "      <th>3591</th>\n",
       "      <td>NaN</td>\n",
       "      <td>3.-Locaux sportifs</td>\n",
       "      <td>2013</td>\n",
       "      <td>Commune de Lully - Construction d'un terrain multisports près de l'établissement scolaire</td>\n",
       "      <td>29000.0</td>\n",
       "      <td>FFSV</td>\n",
       "      <td>2012</td>\n",
       "    </tr>\n",
       "    <tr>\n",
       "      <th>3592</th>\n",
       "      <td>NaN</td>\n",
       "      <td>3.-Locaux sportifs</td>\n",
       "      <td>2013</td>\n",
       "      <td>Commune de Prangins</td>\n",
       "      <td>13260.0</td>\n",
       "      <td>FFSV</td>\n",
       "      <td>2012</td>\n",
       "    </tr>\n",
       "    <tr>\n",
       "      <th>3594</th>\n",
       "      <td>NaN</td>\n",
       "      <td>3.-Locaux sportifs</td>\n",
       "      <td>2013</td>\n",
       "      <td>Commune de Montreux - Installation de huit nouvelles cibles électroniques pour le tir et éclairage</td>\n",
       "      <td>15200.0</td>\n",
       "      <td>FFSV</td>\n",
       "      <td>2012</td>\n",
       "    </tr>\n",
       "    <tr>\n",
       "      <th>3635</th>\n",
       "      <td>NaN</td>\n",
       "      <td>4.-Matériel sportif</td>\n",
       "      <td>2013</td>\n",
       "      <td>Commune de Cottens - Achat d'un but mobile pour le terrain comunal</td>\n",
       "      <td>530.0</td>\n",
       "      <td>FFSV</td>\n",
       "      <td>2012</td>\n",
       "    </tr>\n",
       "    <tr>\n",
       "      <th>3649</th>\n",
       "      <td>NaN</td>\n",
       "      <td>4.-Matériel sportif</td>\n",
       "      <td>2013</td>\n",
       "      <td>Commune de Lausanne</td>\n",
       "      <td>8380.0</td>\n",
       "      <td>FFSV</td>\n",
       "      <td>2012</td>\n",
       "    </tr>\n",
       "    <tr>\n",
       "      <th>3667</th>\n",
       "      <td>NaN</td>\n",
       "      <td>5.-Manifestation sportives</td>\n",
       "      <td>2013</td>\n",
       "      <td>Commune de Montreux - Finales de la Coupe de la Ligue de basketball à Montreux</td>\n",
       "      <td>5000.0</td>\n",
       "      <td>FFSV</td>\n",
       "      <td>2012</td>\n",
       "    </tr>\n",
       "    <tr>\n",
       "      <th>3694</th>\n",
       "      <td>NaN</td>\n",
       "      <td>5.-Manifestation sportives</td>\n",
       "      <td>2013</td>\n",
       "      <td>Commune de Montreux - Org. de la 1ère étape du Tour du Chablais 2012 à Montreux</td>\n",
       "      <td>500.0</td>\n",
       "      <td>FFSV</td>\n",
       "      <td>2012</td>\n",
       "    </tr>\n",
       "    <tr>\n",
       "      <th>3714</th>\n",
       "      <td>NaN</td>\n",
       "      <td>5.-Manifestation sportives</td>\n",
       "      <td>2013</td>\n",
       "      <td>Commune de Morges</td>\n",
       "      <td>2500.0</td>\n",
       "      <td>FFSV</td>\n",
       "      <td>2012</td>\n",
       "    </tr>\n",
       "    <tr>\n",
       "      <th>3715</th>\n",
       "      <td>NaN</td>\n",
       "      <td>5.-Manifestation sportives</td>\n",
       "      <td>2013</td>\n",
       "      <td>Commune de Blonay - Org. d'un duel intercommunal dans le cadre de l'action \"La Suisse Bouge\"</td>\n",
       "      <td>1000.0</td>\n",
       "      <td>FFSV</td>\n",
       "      <td>2012</td>\n",
       "    </tr>\n",
       "    <tr>\n",
       "      <th>3772</th>\n",
       "      <td>NaN</td>\n",
       "      <td>5.-Manifestation sportives</td>\n",
       "      <td>2013</td>\n",
       "      <td>Commune de Montreux - Organisation d'une journée \"La Suisse Bouge\" à Clarens</td>\n",
       "      <td>1000.0</td>\n",
       "      <td>FFSV</td>\n",
       "      <td>2012</td>\n",
       "    </tr>\n",
       "    <tr>\n",
       "      <th>3773</th>\n",
       "      <td>NaN</td>\n",
       "      <td>5.-Manifestation sportives</td>\n",
       "      <td>2013</td>\n",
       "      <td>Commune de Vevey</td>\n",
       "      <td>1500.0</td>\n",
       "      <td>FFSV</td>\n",
       "      <td>2012</td>\n",
       "    </tr>\n",
       "    <tr>\n",
       "      <th>3840</th>\n",
       "      <td>NaN</td>\n",
       "      <td>5.-Manifestation sportives</td>\n",
       "      <td>2013</td>\n",
       "      <td>Commune de Lausanne</td>\n",
       "      <td>5000.0</td>\n",
       "      <td>FFSV</td>\n",
       "      <td>2012</td>\n",
       "    </tr>\n",
       "    <tr>\n",
       "      <th>3892</th>\n",
       "      <td>NaN</td>\n",
       "      <td>5.-Manifestation sportives</td>\n",
       "      <td>2013</td>\n",
       "      <td>Commune de Bex - 1ère étape du Tour du Pays de Vaud</td>\n",
       "      <td>1000.0</td>\n",
       "      <td>FFSV</td>\n",
       "      <td>2012</td>\n",
       "    </tr>\n",
       "    <tr>\n",
       "      <th>3902</th>\n",
       "      <td>NaN</td>\n",
       "      <td>5.-Manifestation sportives</td>\n",
       "      <td>2013</td>\n",
       "      <td>Commune d'Yverdon-les-Bains</td>\n",
       "      <td>6000.0</td>\n",
       "      <td>FFSV</td>\n",
       "      <td>2012</td>\n",
       "    </tr>\n",
       "    <tr>\n",
       "      <th>3923</th>\n",
       "      <td>NaN</td>\n",
       "      <td>5.-Manifestation sportives</td>\n",
       "      <td>2013</td>\n",
       "      <td>Commune de Penthaz - Etape de Penthaz de la Course à pied du Tour du Pays de Vaud 2012</td>\n",
       "      <td>300.0</td>\n",
       "      <td>FFSV</td>\n",
       "      <td>2012</td>\n",
       "    </tr>\n",
       "    <tr>\n",
       "      <th>3959</th>\n",
       "      <td>NaN</td>\n",
       "      <td>5.-Manifestation sportives</td>\n",
       "      <td>2013</td>\n",
       "      <td>Commune de Lausanne</td>\n",
       "      <td>5000.0</td>\n",
       "      <td>FFSV</td>\n",
       "      <td>2012</td>\n",
       "    </tr>\n",
       "  </tbody>\n",
       "</table>\n",
       "<p>193 rows × 7 columns</p>\n",
       "</div>"
      ],
      "text/plain": [
       "     details                     domaine   end  \\\n",
       "129   NaN     3.-Locaux sportifs          2016   \n",
       "130   NaN     3.-Locaux sportifs          2016   \n",
       "131   NaN     3.-Locaux sportifs          2016   \n",
       "132   NaN     3.-Locaux sportifs          2016   \n",
       "133   NaN     3.-Locaux sportifs          2016   \n",
       "134   NaN     3.-Locaux sportifs          2016   \n",
       "135   NaN     3.-Locaux sportifs          2016   \n",
       "136   NaN     3.-Locaux sportifs          2016   \n",
       "137   NaN     3.-Locaux sportifs          2016   \n",
       "138   NaN     3.-Locaux sportifs          2016   \n",
       "139   NaN     3.-Locaux sportifs          2016   \n",
       "140   NaN     3.-Locaux sportifs          2016   \n",
       "141   NaN     3.-Locaux sportifs          2016   \n",
       "142   NaN     3.-Locaux sportifs          2016   \n",
       "143   NaN     3.-Locaux sportifs          2016   \n",
       "144   NaN     3.-Locaux sportifs          2016   \n",
       "176   NaN     4.-Matériel sportif         2016   \n",
       "212   NaN     4.-Matériel sportif         2016   \n",
       "213   NaN     4.-Matériel sportif         2016   \n",
       "302   NaN     5.-Manifestation sportives  2016   \n",
       "307   NaN     5.-Manifestation sportives  2016   \n",
       "308   NaN     5.-Manifestation sportives  2016   \n",
       "309   NaN     5.-Manifestation sportives  2016   \n",
       "310   NaN     5.-Manifestation sportives  2016   \n",
       "498   NaN     5.-Manifestation sportives  2016   \n",
       "722   NaN     3.-Locaux sportifs          2015   \n",
       "723   NaN     3.-Locaux sportifs          2015   \n",
       "724   NaN     3.-Locaux sportifs          2015   \n",
       "725   NaN     3.-Locaux sportifs          2015   \n",
       "726   NaN     3.-Locaux sportifs          2015   \n",
       "...   ...                    ...           ...   \n",
       "3569  NaN     3.-Locaux sportifs          2013   \n",
       "3570  NaN     3.-Locaux sportifs          2013   \n",
       "3571  NaN     3.-Locaux sportifs          2013   \n",
       "3573  NaN     3.-Locaux sportifs          2013   \n",
       "3575  NaN     3.-Locaux sportifs          2013   \n",
       "3577  NaN     3.-Locaux sportifs          2013   \n",
       "3578  NaN     3.-Locaux sportifs          2013   \n",
       "3579  NaN     3.-Locaux sportifs          2013   \n",
       "3580  NaN     3.-Locaux sportifs          2013   \n",
       "3581  NaN     3.-Locaux sportifs          2013   \n",
       "3585  NaN     3.-Locaux sportifs          2013   \n",
       "3588  NaN     3.-Locaux sportifs          2013   \n",
       "3589  NaN     3.-Locaux sportifs          2013   \n",
       "3590  NaN     3.-Locaux sportifs          2013   \n",
       "3591  NaN     3.-Locaux sportifs          2013   \n",
       "3592  NaN     3.-Locaux sportifs          2013   \n",
       "3594  NaN     3.-Locaux sportifs          2013   \n",
       "3635  NaN     4.-Matériel sportif         2013   \n",
       "3649  NaN     4.-Matériel sportif         2013   \n",
       "3667  NaN     5.-Manifestation sportives  2013   \n",
       "3694  NaN     5.-Manifestation sportives  2013   \n",
       "3714  NaN     5.-Manifestation sportives  2013   \n",
       "3715  NaN     5.-Manifestation sportives  2013   \n",
       "3772  NaN     5.-Manifestation sportives  2013   \n",
       "3773  NaN     5.-Manifestation sportives  2013   \n",
       "3840  NaN     5.-Manifestation sportives  2013   \n",
       "3892  NaN     5.-Manifestation sportives  2013   \n",
       "3902  NaN     5.-Manifestation sportives  2013   \n",
       "3923  NaN     5.-Manifestation sportives  2013   \n",
       "3959  NaN     5.-Manifestation sportives  2013   \n",
       "\n",
       "                                                                                                institution  \\\n",
       "129   Commune d'Aubonne - Réfection du terrain de beach-volley de la piscine communale                        \n",
       "130   Commune de Cheseaux-sur-Lausanne                                                                        \n",
       "131   Commune de Gryon - Rénovation de deux courts de tennis extérieurs                                       \n",
       "132   Commune de Lausanne                                                                                     \n",
       "133   Commune de Lausanne                                                                                     \n",
       "134   Commune de Lausanne                                                                                     \n",
       "135   Commune de Moudon                                                                                       \n",
       "136   Commune de Rolle - Rénovation de deux courts de tennis extérieurs et d'un mur d'entraînement            \n",
       "137   Commune de Romanel -s/Lsne - Mise à neuf de l'entier des équip. de l'éclairage du terrain de football   \n",
       "138   Commune de Saint-Barthélemy                                                                             \n",
       "139   Commune de Servion - Création d'un skate-park sur la place de jeux aux Cullayes                         \n",
       "140   Commune de Signy-Avenex - Création d'un terrain multisports                                             \n",
       "141   Commune de Yens - Réfection du terrain de sport du Collège du Rossé                                     \n",
       "142   Commune d'Echichens                                                                                     \n",
       "143   Commune du Mont-sur-Lausanne                                                                            \n",
       "144   Commune d'Yverdon-les-Bains                                                                             \n",
       "176   Commune de Lausanne                                                                                     \n",
       "212   Commune de Lausanne                                                                                     \n",
       "213   Commune de Lausanne                                                                                     \n",
       "302   Comm. sports de la Commune de Bex - Org. de manifestations sportives - Semaine \"La Suisse bouge\"        \n",
       "307   Commune de Blonay - Duel intercommunal dans le cadre de l'action \"La Suisse bouge\"                      \n",
       "308   Commune de Montreux - Finales de la Coupe de la Ligue de basketball à Montreux                          \n",
       "309   Commune de Montreux - Journée \"La Suisse bouge\" à Clarens                                               \n",
       "310   Commune de Morges                                                                                       \n",
       "498   Commune de Vevey                                                                                        \n",
       "722   Commune d'Apples - Réfection des vestiaires du terrain de football des Planches                         \n",
       "723   Commune d'Avenches                                                                                      \n",
       "724   Commune de Château-d'Oex                                                                                \n",
       "725   Commune de Chexbres - Réfection de la place multisports de Champ de Clos                                \n",
       "726   Commune de Crissier - Transformation et rénovation des locaux du centre sportif de la Ruayre - Solde    \n",
       "...                                                                                                    ...    \n",
       "3569  Commune de La Sarraz                                                                                    \n",
       "3570  Commune de La Sarraz                                                                                    \n",
       "3571  Commune de Prangins                                                                                     \n",
       "3573  Commune de Bex                                                                                          \n",
       "3575  Commune de Préverenges - Construction de trois terrains de beach-volley                                 \n",
       "3577  Commune de Vevey                                                                                        \n",
       "3578  Commune de Vevey                                                                                        \n",
       "3579  Commune de Vevey                                                                                        \n",
       "3580  Commune de Renens                                                                                       \n",
       "3581  Commune de Château-d'Oex                                                                                \n",
       "3585  Commune du Mont-sur-Lausanne                                                                            \n",
       "3588  Commune de Penthalaz                                                                                    \n",
       "3589  Commune du Mont-sur-Lausanne                                                                            \n",
       "3590  Commune d'Etoy - Soutien pour la création d'un skatepark près de la salle polyvalente                   \n",
       "3591  Commune de Lully - Construction d'un terrain multisports près de l'établissement scolaire               \n",
       "3592  Commune de Prangins                                                                                     \n",
       "3594  Commune de Montreux - Installation de huit nouvelles cibles électroniques pour le tir et éclairage      \n",
       "3635  Commune de Cottens - Achat d'un but mobile pour le terrain comunal                                      \n",
       "3649  Commune de Lausanne                                                                                     \n",
       "3667  Commune de Montreux - Finales de la Coupe de la Ligue de basketball à Montreux                          \n",
       "3694  Commune de Montreux - Org. de la 1ère étape du Tour du Chablais 2012 à Montreux                         \n",
       "3714  Commune de Morges                                                                                       \n",
       "3715  Commune de Blonay - Org. d'un duel intercommunal dans le cadre de l'action \"La Suisse Bouge\"            \n",
       "3772  Commune de Montreux - Organisation d'une journée \"La Suisse Bouge\" à Clarens                            \n",
       "3773  Commune de Vevey                                                                                        \n",
       "3840  Commune de Lausanne                                                                                     \n",
       "3892  Commune de Bex - 1ère étape du Tour du Pays de Vaud                                                     \n",
       "3902  Commune d'Yverdon-les-Bains                                                                             \n",
       "3923  Commune de Penthaz - Etape de Penthaz de la Course à pied du Tour du Pays de Vaud 2012                  \n",
       "3959  Commune de Lausanne                                                                                     \n",
       "\n",
       "       montant source  start  \n",
       "129   1700.0    FFSV   2015   \n",
       "130   40000.0   FFSV   2015   \n",
       "131   27200.0   FFSV   2015   \n",
       "132   100000.0  FFSV   2015   \n",
       "133   65000.0   FFSV   2015   \n",
       "134   4240.0    FFSV   2015   \n",
       "135   7900.0    FFSV   2015   \n",
       "136   64000.0   FFSV   2015   \n",
       "137   8130.0    FFSV   2015   \n",
       "138   20000.0   FFSV   2015   \n",
       "139   24200.0   FFSV   2015   \n",
       "140   38200.0   FFSV   2015   \n",
       "141   13000.0   FFSV   2015   \n",
       "142   97000.0   FFSV   2015   \n",
       "143   26700.0   FFSV   2015   \n",
       "144   130000.0  FFSV   2015   \n",
       "176   4780.0    FFSV   2015   \n",
       "212   850.0     FFSV   2015   \n",
       "213   830.0     FFSV   2015   \n",
       "302   1500.0    FFSV   2015   \n",
       "307   1000.0    FFSV   2015   \n",
       "308   5000.0    FFSV   2015   \n",
       "309   1000.0    FFSV   2015   \n",
       "310   2500.0    FFSV   2015   \n",
       "498   1500.0    FFSV   2015   \n",
       "722   135000.0  FFSV   2014   \n",
       "723   200000.0  FFSV   2014   \n",
       "724   30000.0   FFSV   2014   \n",
       "725   12000.0   FFSV   2014   \n",
       "726   33000.0   FFSV   2014   \n",
       "...       ...    ...    ...   \n",
       "3569  85000.0   FFSV   2012   \n",
       "3570  12000.0   FFSV   2012   \n",
       "3571  9340.0    FFSV   2012   \n",
       "3573  110000.0  FFSV   2012   \n",
       "3575  57000.0   FFSV   2012   \n",
       "3577  522000.0  FFSV   2012   \n",
       "3578  600000.0  FFSV   2012   \n",
       "3579  285000.0  FFSV   2012   \n",
       "3580  90000.0   FFSV   2012   \n",
       "3581  62000.0   FFSV   2012   \n",
       "3585  19000.0   FFSV   2012   \n",
       "3588  14000.0   FFSV   2012   \n",
       "3589  1850.0    FFSV   2012   \n",
       "3590  19900.0   FFSV   2012   \n",
       "3591  29000.0   FFSV   2012   \n",
       "3592  13260.0   FFSV   2012   \n",
       "3594  15200.0   FFSV   2012   \n",
       "3635  530.0     FFSV   2012   \n",
       "3649  8380.0    FFSV   2012   \n",
       "3667  5000.0    FFSV   2012   \n",
       "3694  500.0     FFSV   2012   \n",
       "3714  2500.0    FFSV   2012   \n",
       "3715  1000.0    FFSV   2012   \n",
       "3772  1000.0    FFSV   2012   \n",
       "3773  1500.0    FFSV   2012   \n",
       "3840  5000.0    FFSV   2012   \n",
       "3892  1000.0    FFSV   2012   \n",
       "3902  6000.0    FFSV   2012   \n",
       "3923  300.0     FFSV   2012   \n",
       "3959  5000.0    FFSV   2012   \n",
       "\n",
       "[193 rows x 7 columns]"
      ]
     },
     "execution_count": 1517,
     "metadata": {},
     "output_type": "execute_result"
    }
   ],
   "source": [
    "df[df['institution'].str.contains(\"Commune\")]"
   ]
  },
  {
   "cell_type": "code",
   "execution_count": 1518,
   "metadata": {},
   "outputs": [
    {
     "data": {
      "text/plain": [
       "1426000"
      ]
     },
     "execution_count": 1518,
     "metadata": {},
     "output_type": "execute_result"
    }
   ],
   "source": [
    "17500+1408500"
   ]
  },
  {
   "cell_type": "markdown",
   "metadata": {},
   "source": [
    "## Change data type for dates"
   ]
  },
  {
   "cell_type": "code",
   "execution_count": 1519,
   "metadata": {},
   "outputs": [
    {
     "data": {
      "text/plain": [
       "pandas.core.series.Series"
      ]
     },
     "execution_count": 1519,
     "metadata": {},
     "output_type": "execute_result"
    }
   ],
   "source": [
    "df['start'] = pd.to_datetime(df['start'], format='%Y')\n",
    "df['end'] = pd.to_datetime(df['end'], format='%Y')\n",
    "type(df['end'])"
   ]
  },
  {
   "cell_type": "markdown",
   "metadata": {},
   "source": [
    "## Explore repartion"
   ]
  },
  {
   "cell_type": "markdown",
   "metadata": {},
   "source": [
    "### By source"
   ]
  },
  {
   "cell_type": "code",
   "execution_count": 1584,
   "metadata": {},
   "outputs": [
    {
     "data": {
      "text/plain": [
       "6511"
      ]
     },
     "execution_count": 1584,
     "metadata": {},
     "output_type": "execute_result"
    }
   ],
   "source": [
    "len(df)"
   ]
  },
  {
   "cell_type": "code",
   "execution_count": 1520,
   "metadata": {},
   "outputs": [
    {
     "data": {
      "text/plain": [
       "235612741.04"
      ]
     },
     "execution_count": 1520,
     "metadata": {},
     "output_type": "execute_result"
    }
   ],
   "source": [
    "df['montant'].sum()"
   ]
  },
  {
   "cell_type": "code",
   "execution_count": 1583,
   "metadata": {},
   "outputs": [
    {
     "data": {
      "text/plain": [
       "3497"
      ]
     },
     "execution_count": 1583,
     "metadata": {},
     "output_type": "execute_result"
    }
   ],
   "source": [
    "len(df['institution'].value_counts())"
   ]
  },
  {
   "cell_type": "code",
   "execution_count": 1522,
   "metadata": {},
   "outputs": [],
   "source": [
    "#counting = df['institution'].drop_duplicates()\n",
    "#len(counting)"
   ]
  },
  {
   "cell_type": "code",
   "execution_count": 1523,
   "metadata": {},
   "outputs": [
    {
     "data": {
      "text/plain": [
       "start\n",
       "2012-01-01    43862198.30\n",
       "2013-01-01    47399857.11\n",
       "2014-01-01    46537532.76\n",
       "2015-01-01    43258905.16\n",
       "2016-01-01    54554247.71\n",
       "Name: montant, dtype: float64"
      ]
     },
     "execution_count": 1523,
     "metadata": {},
     "output_type": "execute_result"
    }
   ],
   "source": [
    "df.groupby('start')['montant'].sum()"
   ]
  },
  {
   "cell_type": "code",
   "execution_count": 1524,
   "metadata": {},
   "outputs": [
    {
     "data": {
      "text/plain": [
       "start       source         \n",
       "2012-01-01  FFSV               23.271146\n",
       "            Organe cantonal    76.728854\n",
       "2013-01-01  FFSV               22.731404\n",
       "            Organe cantonal    77.268596\n",
       "2014-01-01  FFSV               21.563820\n",
       "            Organe cantonal    78.436180\n",
       "2015-01-01  FFSV               22.193750\n",
       "            Organe cantonal    77.806250\n",
       "2016-01-01  FFSV               23.249980\n",
       "            Organe cantonal    76.750020\n",
       "Name: montant, dtype: float64"
      ]
     },
     "execution_count": 1524,
     "metadata": {},
     "output_type": "execute_result"
    }
   ],
   "source": [
    "df.groupby(['start', 'source'])['montant'].sum() / df.groupby('start')['montant'].sum() * 100"
   ]
  },
  {
   "cell_type": "code",
   "execution_count": 1525,
   "metadata": {},
   "outputs": [
    {
     "data": {
      "text/plain": [
       "source\n",
       "FFSV               5.330178e+07\n",
       "Organe cantonal    1.823110e+08\n",
       "Name: montant, dtype: float64"
      ]
     },
     "execution_count": 1525,
     "metadata": {},
     "output_type": "execute_result"
    }
   ],
   "source": [
    "df.groupby(['source'])['montant'].sum()"
   ]
  },
  {
   "cell_type": "code",
   "execution_count": 1526,
   "metadata": {},
   "outputs": [
    {
     "data": {
      "text/plain": [
       "source\n",
       "FFSV               22.622624\n",
       "Organe cantonal    77.377376\n",
       "Name: montant, dtype: float64"
      ]
     },
     "execution_count": 1526,
     "metadata": {},
     "output_type": "execute_result"
    }
   ],
   "source": [
    "df.groupby(['source'])['montant'].sum()/df['montant'].sum()*100"
   ]
  },
  {
   "cell_type": "code",
   "execution_count": null,
   "metadata": {},
   "outputs": [],
   "source": []
  },
  {
   "cell_type": "markdown",
   "metadata": {},
   "source": [
    "### By domain"
   ]
  },
  {
   "cell_type": "code",
   "execution_count": 1527,
   "metadata": {},
   "outputs": [
    {
     "data": {
      "text/plain": [
       "235612741.04"
      ]
     },
     "execution_count": 1527,
     "metadata": {},
     "output_type": "execute_result"
    }
   ],
   "source": [
    "df['montant'].sum()"
   ]
  },
  {
   "cell_type": "code",
   "execution_count": 1528,
   "metadata": {},
   "outputs": [
    {
     "data": {
      "text/plain": [
       "domaine\n",
       "1.-Associations                         6615030.00 \n",
       "2.-Camps sp., sp. scol. & CS            3271307.45 \n",
       "3.-Locaux sportifs                      16985900.00\n",
       "4.-Matériel sportif                     947555.00  \n",
       "5.-Manifestation sportives              3049288.40 \n",
       "6.-Clubs élites                         4005389.50 \n",
       "7.-Dévelop. qualit. sport               1014103.55 \n",
       "8.-FASV & Bourses                       2206287.40 \n",
       "9.-Centres sportifs                     13866287.55\n",
       "Action sociale / personnes âgées        26714134.00\n",
       "Culture                                 90392844.00\n",
       "Environnement                           3110750.00 \n",
       "Extra sport                             1340635.19 \n",
       "Formation et recherche                  2280000.00 \n",
       "Jeunesse et éducation                   16884289.00\n",
       "Patrimoine                              10783200.00\n",
       "Promotion, tourisme et développement    12469800.00\n",
       "Santé et handicap                       14675940.00\n",
       "extra_culture                           5000000.00 \n",
       "Name: montant, dtype: float64"
      ]
     },
     "execution_count": 1528,
     "metadata": {},
     "output_type": "execute_result"
    }
   ],
   "source": [
    "df.groupby(['domaine'])['montant'].sum()"
   ]
  },
  {
   "cell_type": "code",
   "execution_count": 1529,
   "metadata": {},
   "outputs": [
    {
     "data": {
      "text/plain": [
       "domaine\n",
       "1.-Associations                         2.807586 \n",
       "2.-Camps sp., sp. scol. & CS            1.388426 \n",
       "3.-Locaux sportifs                      7.209245 \n",
       "4.-Matériel sportif                     0.402166 \n",
       "5.-Manifestation sportives              1.294195 \n",
       "6.-Clubs élites                         1.699988 \n",
       "7.-Dévelop. qualit. sport               0.430411 \n",
       "8.-FASV & Bourses                       0.936404 \n",
       "9.-Centres sportifs                     5.885203 \n",
       "Action sociale / personnes âgées        11.338153\n",
       "Culture                                 38.365007\n",
       "Environnement                           1.320281 \n",
       "Extra sport                             0.568999 \n",
       "Formation et recherche                  0.967690 \n",
       "Jeunesse et éducation                   7.166119 \n",
       "Patrimoine                              4.576663 \n",
       "Promotion, tourisme et développement    5.292498 \n",
       "Santé et handicap                       6.228840 \n",
       "extra_culture                           2.122126 \n",
       "Name: montant, dtype: float64"
      ]
     },
     "execution_count": 1529,
     "metadata": {},
     "output_type": "execute_result"
    }
   ],
   "source": [
    "df.groupby(['domaine'])['montant'].sum()/df['montant'].sum()*100"
   ]
  },
  {
   "cell_type": "markdown",
   "metadata": {},
   "source": [
    "## Biggest amounts overall"
   ]
  },
  {
   "cell_type": "markdown",
   "metadata": {},
   "source": [
    "### Top 50 Mixed"
   ]
  },
  {
   "cell_type": "code",
   "execution_count": 1581,
   "metadata": {},
   "outputs": [],
   "source": [
    "df_sum = df.groupby('institution')['montant'].sum().reset_index(name=\"sum\").sort_values('sum', ascending=False)"
   ]
  },
  {
   "cell_type": "code",
   "execution_count": 1607,
   "metadata": {},
   "outputs": [
    {
     "data": {
      "text/html": [
       "<div>\n",
       "<style scoped>\n",
       "    .dataframe tbody tr th:only-of-type {\n",
       "        vertical-align: middle;\n",
       "    }\n",
       "\n",
       "    .dataframe tbody tr th {\n",
       "        vertical-align: top;\n",
       "    }\n",
       "\n",
       "    .dataframe thead th {\n",
       "        text-align: right;\n",
       "    }\n",
       "</style>\n",
       "<table border=\"1\" class=\"dataframe\">\n",
       "  <thead>\n",
       "    <tr style=\"text-align: right;\">\n",
       "      <th></th>\n",
       "      <th>institution</th>\n",
       "      <th>sum</th>\n",
       "    </tr>\n",
       "  </thead>\n",
       "  <tbody>\n",
       "    <tr>\n",
       "      <th>2255</th>\n",
       "      <td>Fdt Ruchonnet 18 - Avance pour paiment des factures de la Maison du sport vaud. à Leysin</td>\n",
       "      <td>13849809.00</td>\n",
       "    </tr>\n",
       "    <tr>\n",
       "      <th>2409</th>\n",
       "      <td>Fondation  pour l'accueil de jour des enfants FAJE, Lausanne</td>\n",
       "      <td>7500000.00</td>\n",
       "    </tr>\n",
       "    <tr>\n",
       "      <th>2917</th>\n",
       "      <td>MCBA</td>\n",
       "      <td>5000000.00</td>\n",
       "    </tr>\n",
       "    <tr>\n",
       "      <th>2986</th>\n",
       "      <td>Office du Tourisme du Canton de Vaud, Lausanne</td>\n",
       "      <td>5000000.00</td>\n",
       "    </tr>\n",
       "    <tr>\n",
       "      <th>2570</th>\n",
       "      <td>Fondation romande pour le cinéma - cinéforom, Genève</td>\n",
       "      <td>3500000.00</td>\n",
       "    </tr>\n",
       "    <tr>\n",
       "      <th>1539</th>\n",
       "      <td>Camps sportifs scolaires - Total pour les établissements scolaires vaudois</td>\n",
       "      <td>2861449.00</td>\n",
       "    </tr>\n",
       "    <tr>\n",
       "      <th>2564</th>\n",
       "      <td>Fondation pour l'art dramatique - Théâtre de Vidy, Lausanne</td>\n",
       "      <td>2170000.00</td>\n",
       "    </tr>\n",
       "    <tr>\n",
       "      <th>1408</th>\n",
       "      <td>Association pour la restauration de l'Abbatiale de Payerne, Payerne</td>\n",
       "      <td>2150000.00</td>\n",
       "    </tr>\n",
       "    <tr>\n",
       "      <th>2415</th>\n",
       "      <td>Fondation Ballet Béjart, Lausanne</td>\n",
       "      <td>1960000.00</td>\n",
       "    </tr>\n",
       "    <tr>\n",
       "      <th>2401</th>\n",
       "      <td>Fond. pour l'art musical, lyrique et chorégraphique - Opéra de Lausanne, Lausanne</td>\n",
       "      <td>1860000.00</td>\n",
       "    </tr>\n",
       "    <tr>\n",
       "      <th>1235</th>\n",
       "      <td>Association cantonale vaudoise de football</td>\n",
       "      <td>1709220.00</td>\n",
       "    </tr>\n",
       "    <tr>\n",
       "      <th>2385</th>\n",
       "      <td>Fond. du Festival de la Cité, Lausanne</td>\n",
       "      <td>1600000.00</td>\n",
       "    </tr>\n",
       "    <tr>\n",
       "      <th>1878</th>\n",
       "      <td>Commune de Lausanne</td>\n",
       "      <td>1552380.00</td>\n",
       "    </tr>\n",
       "    <tr>\n",
       "      <th>2481</th>\n",
       "      <td>Fondation Mère Sofia, Lausanne</td>\n",
       "      <td>1445000.00</td>\n",
       "    </tr>\n",
       "    <tr>\n",
       "      <th>1917</th>\n",
       "      <td>Commune de Vevey</td>\n",
       "      <td>1426000.00</td>\n",
       "    </tr>\n",
       "    <tr>\n",
       "      <th>2557</th>\n",
       "      <td>Fondation du Théâtre du Jorat, Mézières</td>\n",
       "      <td>1410000.00</td>\n",
       "    </tr>\n",
       "    <tr>\n",
       "      <th>2382</th>\n",
       "      <td>Fond. du Château de Grandson, Grandson</td>\n",
       "      <td>1400000.00</td>\n",
       "    </tr>\n",
       "    <tr>\n",
       "      <th>3368</th>\n",
       "      <td>Tour de Romandie</td>\n",
       "      <td>1340635.19</td>\n",
       "    </tr>\n",
       "    <tr>\n",
       "      <th>1236</th>\n",
       "      <td>Association cantonale vaudoise de gymnastique</td>\n",
       "      <td>1335073.00</td>\n",
       "    </tr>\n",
       "    <tr>\n",
       "      <th>2285</th>\n",
       "      <td>Fond. Cinémathèque suisse, Lausanne</td>\n",
       "      <td>1330000.00</td>\n",
       "    </tr>\n",
       "    <tr>\n",
       "      <th>1223</th>\n",
       "      <td>Association Visions du Réel, Nyon</td>\n",
       "      <td>1280000.00</td>\n",
       "    </tr>\n",
       "    <tr>\n",
       "      <th>3358</th>\n",
       "      <td>Théâtre Kléber Méleau</td>\n",
       "      <td>1220000.00</td>\n",
       "    </tr>\n",
       "    <tr>\n",
       "      <th>79</th>\n",
       "      <td>Ass. Intercommunale Asse et Boiron - Construction d'une piscine couverte intercom. à Chéserex</td>\n",
       "      <td>1200000.00</td>\n",
       "    </tr>\n",
       "    <tr>\n",
       "      <th>3130</th>\n",
       "      <td>Service des sports universitaires de L'UNIL et de EPFL</td>\n",
       "      <td>1180000.00</td>\n",
       "    </tr>\n",
       "    <tr>\n",
       "      <th>2479</th>\n",
       "      <td>Fondation Malley Prairie, Lausanne</td>\n",
       "      <td>1122000.00</td>\n",
       "    </tr>\n",
       "    <tr>\n",
       "      <th>2484</th>\n",
       "      <td>Fondation Orchestre de Chambre de Lausanne - OCL, Lausanne</td>\n",
       "      <td>1110000.00</td>\n",
       "    </tr>\n",
       "    <tr>\n",
       "      <th>2461</th>\n",
       "      <td>Fondation Jeunesse et Familles, Ecublens</td>\n",
       "      <td>1000000.00</td>\n",
       "    </tr>\n",
       "    <tr>\n",
       "      <th>2552</th>\n",
       "      <td>Fondation du Petit Théâtre de Lausanne, Lausanne</td>\n",
       "      <td>1000000.00</td>\n",
       "    </tr>\n",
       "    <tr>\n",
       "      <th>2365</th>\n",
       "      <td>Fond. de l'Elysée, Lausanne</td>\n",
       "      <td>850000.00</td>\n",
       "    </tr>\n",
       "    <tr>\n",
       "      <th>2271</th>\n",
       "      <td>Fond. Avenches Opéra , Avenches</td>\n",
       "      <td>790000.00</td>\n",
       "    </tr>\n",
       "    <tr>\n",
       "      <th>2560</th>\n",
       "      <td>Fondation en faveur de l'Art chorégraphique Prix de Lausanne, Lausanne</td>\n",
       "      <td>760000.00</td>\n",
       "    </tr>\n",
       "    <tr>\n",
       "      <th>2267</th>\n",
       "      <td>Fond. Aquatis, Vevey</td>\n",
       "      <td>750000.00</td>\n",
       "    </tr>\n",
       "    <tr>\n",
       "      <th>2324</th>\n",
       "      <td>Fond. Les Oliviers, Le Mont-sur-Lausanne</td>\n",
       "      <td>720000.00</td>\n",
       "    </tr>\n",
       "    <tr>\n",
       "      <th>2505</th>\n",
       "      <td>Fondation Sinfonietta de Lausanne, Lausanne</td>\n",
       "      <td>715000.00</td>\n",
       "    </tr>\n",
       "    <tr>\n",
       "      <th>2529</th>\n",
       "      <td>Fondation de l'Hermitage, Lausanne</td>\n",
       "      <td>700000.00</td>\n",
       "    </tr>\n",
       "    <tr>\n",
       "      <th>33</th>\n",
       "      <td>AVASAD - assoc. vaudoise d'aide et de soins à domicile, Lausanne</td>\n",
       "      <td>700000.00</td>\n",
       "    </tr>\n",
       "    <tr>\n",
       "      <th>2983</th>\n",
       "      <td>OSEO VAUD - SEMO RIVIERA, Vevey</td>\n",
       "      <td>700000.00</td>\n",
       "    </tr>\n",
       "    <tr>\n",
       "      <th>2853</th>\n",
       "      <td>Lausanne Hockey Club</td>\n",
       "      <td>680000.00</td>\n",
       "    </tr>\n",
       "    <tr>\n",
       "      <th>574</th>\n",
       "      <td>Assoc. des Amis des bateaux à vapeur du Léman ABVL, Clarens</td>\n",
       "      <td>670000.00</td>\n",
       "    </tr>\n",
       "    <tr>\n",
       "      <th>2569</th>\n",
       "      <td>Fondation pour les musiques actuelles FMA - Les Docks, Lausanne</td>\n",
       "      <td>660000.00</td>\n",
       "    </tr>\n",
       "    <tr>\n",
       "      <th>2143</th>\n",
       "      <td>FC Lausanne-Sport - Soutien aux clubs élites (reversé à Team Vaud Foot)</td>\n",
       "      <td>647000.00</td>\n",
       "    </tr>\n",
       "    <tr>\n",
       "      <th>1205</th>\n",
       "      <td>Association Un lieu pour la Danse Théâtre Sévelin 36, Lausanne</td>\n",
       "      <td>620000.00</td>\n",
       "    </tr>\n",
       "    <tr>\n",
       "      <th>2125</th>\n",
       "      <td>FAR Festival des arts vivants , Nyon</td>\n",
       "      <td>620000.00</td>\n",
       "    </tr>\n",
       "    <tr>\n",
       "      <th>2330</th>\n",
       "      <td>Fond. Montreux Jazz Artists, Montreux</td>\n",
       "      <td>610000.00</td>\n",
       "    </tr>\n",
       "    <tr>\n",
       "      <th>2871</th>\n",
       "      <td>Le Livre sur les quais, Gollion</td>\n",
       "      <td>600000.00</td>\n",
       "    </tr>\n",
       "    <tr>\n",
       "      <th>336</th>\n",
       "      <td>Assoc. Jazz onze +</td>\n",
       "      <td>580000.00</td>\n",
       "    </tr>\n",
       "    <tr>\n",
       "      <th>1162</th>\n",
       "      <td>Association Ski-Romand</td>\n",
       "      <td>560520.00</td>\n",
       "    </tr>\n",
       "    <tr>\n",
       "      <th>1530</th>\n",
       "      <td>CSP - Centre Social Protestant Vaud, Lausanne</td>\n",
       "      <td>560000.00</td>\n",
       "    </tr>\n",
       "    <tr>\n",
       "      <th>252</th>\n",
       "      <td>Assoc. Cully Jazz Festival, Cully</td>\n",
       "      <td>560000.00</td>\n",
       "    </tr>\n",
       "    <tr>\n",
       "      <th>2559</th>\n",
       "      <td>Fondation du parc zoologique La Garenne, Le Vaud</td>\n",
       "      <td>550000.00</td>\n",
       "    </tr>\n",
       "  </tbody>\n",
       "</table>\n",
       "</div>"
      ],
      "text/plain": [
       "                                                                                        institution  \\\n",
       "2255  Fdt Ruchonnet 18 - Avance pour paiment des factures de la Maison du sport vaud. à Leysin        \n",
       "2409  Fondation  pour l'accueil de jour des enfants FAJE, Lausanne                                    \n",
       "2917  MCBA                                                                                            \n",
       "2986  Office du Tourisme du Canton de Vaud, Lausanne                                                  \n",
       "2570  Fondation romande pour le cinéma - cinéforom, Genève                                            \n",
       "1539  Camps sportifs scolaires - Total pour les établissements scolaires vaudois                      \n",
       "2564  Fondation pour l'art dramatique - Théâtre de Vidy, Lausanne                                     \n",
       "1408  Association pour la restauration de l'Abbatiale de Payerne, Payerne                             \n",
       "2415  Fondation Ballet Béjart, Lausanne                                                               \n",
       "2401  Fond. pour l'art musical, lyrique et chorégraphique - Opéra de Lausanne, Lausanne               \n",
       "1235  Association cantonale vaudoise de football                                                      \n",
       "2385  Fond. du Festival de la Cité, Lausanne                                                          \n",
       "1878  Commune de Lausanne                                                                             \n",
       "2481  Fondation Mère Sofia, Lausanne                                                                  \n",
       "1917  Commune de Vevey                                                                                \n",
       "2557  Fondation du Théâtre du Jorat, Mézières                                                         \n",
       "2382  Fond. du Château de Grandson, Grandson                                                          \n",
       "3368  Tour de Romandie                                                                                \n",
       "1236  Association cantonale vaudoise de gymnastique                                                   \n",
       "2285  Fond. Cinémathèque suisse, Lausanne                                                             \n",
       "1223  Association Visions du Réel, Nyon                                                               \n",
       "3358  Théâtre Kléber Méleau                                                                           \n",
       "79    Ass. Intercommunale Asse et Boiron - Construction d'une piscine couverte intercom. à Chéserex   \n",
       "3130  Service des sports universitaires de L'UNIL et de EPFL                                          \n",
       "2479  Fondation Malley Prairie, Lausanne                                                              \n",
       "2484  Fondation Orchestre de Chambre de Lausanne - OCL, Lausanne                                      \n",
       "2461  Fondation Jeunesse et Familles, Ecublens                                                        \n",
       "2552  Fondation du Petit Théâtre de Lausanne, Lausanne                                                \n",
       "2365  Fond. de l'Elysée, Lausanne                                                                     \n",
       "2271  Fond. Avenches Opéra , Avenches                                                                 \n",
       "2560  Fondation en faveur de l'Art chorégraphique Prix de Lausanne, Lausanne                          \n",
       "2267  Fond. Aquatis, Vevey                                                                            \n",
       "2324  Fond. Les Oliviers, Le Mont-sur-Lausanne                                                        \n",
       "2505  Fondation Sinfonietta de Lausanne, Lausanne                                                     \n",
       "2529  Fondation de l'Hermitage, Lausanne                                                              \n",
       "33    AVASAD - assoc. vaudoise d'aide et de soins à domicile, Lausanne                                \n",
       "2983  OSEO VAUD - SEMO RIVIERA, Vevey                                                                 \n",
       "2853  Lausanne Hockey Club                                                                            \n",
       "574   Assoc. des Amis des bateaux à vapeur du Léman ABVL, Clarens                                     \n",
       "2569  Fondation pour les musiques actuelles FMA - Les Docks, Lausanne                                 \n",
       "2143  FC Lausanne-Sport - Soutien aux clubs élites (reversé à Team Vaud Foot)                         \n",
       "1205  Association Un lieu pour la Danse Théâtre Sévelin 36, Lausanne                                  \n",
       "2125  FAR Festival des arts vivants , Nyon                                                            \n",
       "2330  Fond. Montreux Jazz Artists, Montreux                                                           \n",
       "2871  Le Livre sur les quais, Gollion                                                                 \n",
       "336   Assoc. Jazz onze +                                                                              \n",
       "1162  Association Ski-Romand                                                                          \n",
       "1530  CSP - Centre Social Protestant Vaud, Lausanne                                                   \n",
       "252   Assoc. Cully Jazz Festival, Cully                                                               \n",
       "2559  Fondation du parc zoologique La Garenne, Le Vaud                                                \n",
       "\n",
       "              sum  \n",
       "2255  13849809.00  \n",
       "2409  7500000.00   \n",
       "2917  5000000.00   \n",
       "2986  5000000.00   \n",
       "2570  3500000.00   \n",
       "1539  2861449.00   \n",
       "2564  2170000.00   \n",
       "1408  2150000.00   \n",
       "2415  1960000.00   \n",
       "2401  1860000.00   \n",
       "1235  1709220.00   \n",
       "2385  1600000.00   \n",
       "1878  1552380.00   \n",
       "2481  1445000.00   \n",
       "1917  1426000.00   \n",
       "2557  1410000.00   \n",
       "2382  1400000.00   \n",
       "3368  1340635.19   \n",
       "1236  1335073.00   \n",
       "2285  1330000.00   \n",
       "1223  1280000.00   \n",
       "3358  1220000.00   \n",
       "79    1200000.00   \n",
       "3130  1180000.00   \n",
       "2479  1122000.00   \n",
       "2484  1110000.00   \n",
       "2461  1000000.00   \n",
       "2552  1000000.00   \n",
       "2365  850000.00    \n",
       "2271  790000.00    \n",
       "2560  760000.00    \n",
       "2267  750000.00    \n",
       "2324  720000.00    \n",
       "2505  715000.00    \n",
       "2529  700000.00    \n",
       "33    700000.00    \n",
       "2983  700000.00    \n",
       "2853  680000.00    \n",
       "574   670000.00    \n",
       "2569  660000.00    \n",
       "2143  647000.00    \n",
       "1205  620000.00    \n",
       "2125  620000.00    \n",
       "2330  610000.00    \n",
       "2871  600000.00    \n",
       "336   580000.00    \n",
       "1162  560520.00    \n",
       "1530  560000.00    \n",
       "252   560000.00    \n",
       "2559  550000.00    "
      ]
     },
     "execution_count": 1607,
     "metadata": {},
     "output_type": "execute_result"
    }
   ],
   "source": [
    "df_sum[:50]"
   ]
  },
  {
   "cell_type": "code",
   "execution_count": 1573,
   "metadata": {},
   "outputs": [],
   "source": [
    "#df_sum[:50].to_csv('top50vendredi.csv')"
   ]
  },
  {
   "cell_type": "markdown",
   "metadata": {},
   "source": [
    "### Top 50 Sport"
   ]
  },
  {
   "cell_type": "code",
   "execution_count": 1534,
   "metadata": {},
   "outputs": [],
   "source": [
    "df_sport = df[df['source'] == 'FFSV']"
   ]
  },
  {
   "cell_type": "code",
   "execution_count": 1579,
   "metadata": {},
   "outputs": [],
   "source": [
    "#df_sport.groupby('institution')['montant'].sum().reset_index(name=\"sum\").sort_values('sum', ascending=False)[:20]"
   ]
  },
  {
   "cell_type": "markdown",
   "metadata": {},
   "source": [
    "### Top 50 culture"
   ]
  },
  {
   "cell_type": "code",
   "execution_count": 1580,
   "metadata": {},
   "outputs": [],
   "source": [
    "df_culture = df[df['source'] == 'Organe cantonal']\n",
    "#df_culture.groupby('institution')['montant'].sum().reset_index(name=\"sum\").sort_values('sum', ascending=False)\n"
   ]
  },
  {
   "cell_type": "markdown",
   "metadata": {},
   "source": [
    "## Number of institutions by year"
   ]
  },
  {
   "cell_type": "code",
   "execution_count": 1537,
   "metadata": {},
   "outputs": [
    {
     "data": {
      "text/plain": [
       "start\n",
       "2012-01-01    1333\n",
       "2013-01-01    1305\n",
       "2014-01-01    1272\n",
       "2015-01-01    1243\n",
       "2016-01-01    1358\n",
       "Name: institution, dtype: int64"
      ]
     },
     "execution_count": 1537,
     "metadata": {},
     "output_type": "execute_result"
    }
   ],
   "source": [
    "df.groupby(['start'])['institution'].count()"
   ]
  },
  {
   "cell_type": "code",
   "execution_count": 1538,
   "metadata": {},
   "outputs": [
    {
     "data": {
      "text/plain": [
       "3497"
      ]
     },
     "execution_count": 1538,
     "metadata": {},
     "output_type": "execute_result"
    }
   ],
   "source": [
    "len(df.groupby('institution').sum())"
   ]
  },
  {
   "cell_type": "code",
   "execution_count": 1539,
   "metadata": {},
   "outputs": [
    {
     "data": {
      "text/plain": [
       "1302.2"
      ]
     },
     "execution_count": 1539,
     "metadata": {},
     "output_type": "execute_result"
    }
   ],
   "source": [
    "df.groupby(['start'])['institution'].count().mean()"
   ]
  },
  {
   "cell_type": "code",
   "execution_count": 1540,
   "metadata": {},
   "outputs": [
    {
     "data": {
      "text/plain": [
       "6511"
      ]
     },
     "execution_count": 1540,
     "metadata": {},
     "output_type": "execute_result"
    }
   ],
   "source": [
    "len(df)"
   ]
  },
  {
   "cell_type": "code",
   "execution_count": 1541,
   "metadata": {},
   "outputs": [
    {
     "data": {
      "text/plain": [
       "3497"
      ]
     },
     "execution_count": 1541,
     "metadata": {},
     "output_type": "execute_result"
    }
   ],
   "source": [
    "len(df.groupby(['institution']))"
   ]
  },
  {
   "cell_type": "code",
   "execution_count": 1542,
   "metadata": {},
   "outputs": [
    {
     "data": {
      "text/plain": [
       "6511"
      ]
     },
     "execution_count": 1542,
     "metadata": {},
     "output_type": "execute_result"
    }
   ],
   "source": [
    "len(df)"
   ]
  },
  {
   "cell_type": "markdown",
   "metadata": {},
   "source": [
    "## Size of contributions"
   ]
  },
  {
   "cell_type": "code",
   "execution_count": 1543,
   "metadata": {},
   "outputs": [
    {
     "data": {
      "text/plain": [
       "start\n",
       "2012-01-01    6000.0\n",
       "2013-01-01    7800.0\n",
       "2014-01-01    8000.0\n",
       "2015-01-01    8000.0\n",
       "2016-01-01    6000.0\n",
       "Name: montant, dtype: float64"
      ]
     },
     "execution_count": 1543,
     "metadata": {},
     "output_type": "execute_result"
    }
   ],
   "source": [
    "df.groupby('start')['montant'].median()"
   ]
  },
  {
   "cell_type": "code",
   "execution_count": 1544,
   "metadata": {},
   "outputs": [
    {
     "data": {
      "text/plain": [
       "7160.0"
      ]
     },
     "execution_count": 1544,
     "metadata": {},
     "output_type": "execute_result"
    }
   ],
   "source": [
    "df.groupby('start')['montant'].median().mean()"
   ]
  },
  {
   "cell_type": "code",
   "execution_count": 1545,
   "metadata": {},
   "outputs": [
    {
     "data": {
      "text/plain": [
       "6511"
      ]
     },
     "execution_count": 1545,
     "metadata": {},
     "output_type": "execute_result"
    }
   ],
   "source": [
    "len(df)"
   ]
  },
  {
   "cell_type": "code",
   "execution_count": 1546,
   "metadata": {},
   "outputs": [
    {
     "data": {
      "text/plain": [
       "start\n",
       "2012-01-01    1333\n",
       "2013-01-01    1305\n",
       "2014-01-01    1272\n",
       "2015-01-01    1243\n",
       "2016-01-01    1358\n",
       "dtype: int64"
      ]
     },
     "execution_count": 1546,
     "metadata": {},
     "output_type": "execute_result"
    }
   ],
   "source": [
    "df.groupby('start').size()"
   ]
  },
  {
   "cell_type": "code",
   "execution_count": 1547,
   "metadata": {},
   "outputs": [
    {
     "data": {
      "text/plain": [
       "1302.2"
      ]
     },
     "execution_count": 1547,
     "metadata": {},
     "output_type": "execute_result"
    }
   ],
   "source": [
    "df.groupby('start').size().mean()"
   ]
  },
  {
   "cell_type": "code",
   "execution_count": 1548,
   "metadata": {},
   "outputs": [
    {
     "data": {
      "text/plain": [
       "2126"
      ]
     },
     "execution_count": 1548,
     "metadata": {},
     "output_type": "execute_result"
    }
   ],
   "source": [
    "len(df[df['montant'] <= 2500])"
   ]
  },
  {
   "cell_type": "code",
   "execution_count": 1549,
   "metadata": {},
   "outputs": [
    {
     "data": {
      "text/plain": [
       "0.3265243434188297"
      ]
     },
     "execution_count": 1549,
     "metadata": {},
     "output_type": "execute_result"
    }
   ],
   "source": [
    "len(df[df['montant'] <= 2500]) / len(df)"
   ]
  },
  {
   "cell_type": "code",
   "execution_count": 1550,
   "metadata": {},
   "outputs": [
    {
     "data": {
      "text/plain": [
       "0.3371217938872677"
      ]
     },
     "execution_count": 1550,
     "metadata": {},
     "output_type": "execute_result"
    }
   ],
   "source": [
    "len(df[df['montant'] >= 20000]) / len(df)"
   ]
  },
  {
   "cell_type": "code",
   "execution_count": 1551,
   "metadata": {},
   "outputs": [
    {
     "data": {
      "text/plain": [
       "0.3363538626939026"
      ]
     },
     "execution_count": 1551,
     "metadata": {},
     "output_type": "execute_result"
    }
   ],
   "source": [
    "len(df[(df['montant'] > 2500) & (df['montant']< 20000)])/len(df)"
   ]
  },
  {
   "cell_type": "code",
   "execution_count": 1552,
   "metadata": {},
   "outputs": [
    {
     "data": {
      "text/plain": [
       "1.0"
      ]
     },
     "execution_count": 1552,
     "metadata": {},
     "output_type": "execute_result"
    }
   ],
   "source": [
    "len(df[df['montant'] <= 2000]) / len(df) +len(df[df['montant'] >= 20000]) / len(df) +len(df[(df['montant'] > 2000) & (df['montant']< 20000)])/len(df)"
   ]
  },
  {
   "cell_type": "code",
   "execution_count": 1553,
   "metadata": {},
   "outputs": [
    {
     "data": {
      "text/html": [
       "<div>\n",
       "<style scoped>\n",
       "    .dataframe tbody tr th:only-of-type {\n",
       "        vertical-align: middle;\n",
       "    }\n",
       "\n",
       "    .dataframe tbody tr th {\n",
       "        vertical-align: top;\n",
       "    }\n",
       "\n",
       "    .dataframe thead th {\n",
       "        text-align: right;\n",
       "    }\n",
       "</style>\n",
       "<table border=\"1\" class=\"dataframe\">\n",
       "  <thead>\n",
       "    <tr style=\"text-align: right;\">\n",
       "      <th></th>\n",
       "      <th>details</th>\n",
       "      <th>domaine</th>\n",
       "      <th>end</th>\n",
       "      <th>institution</th>\n",
       "      <th>montant</th>\n",
       "      <th>source</th>\n",
       "      <th>start</th>\n",
       "    </tr>\n",
       "  </thead>\n",
       "  <tbody>\n",
       "    <tr>\n",
       "      <th>43</th>\n",
       "      <td>NaN</td>\n",
       "      <td>2.-Camps sp., sp. scol. &amp; CS</td>\n",
       "      <td>2016-01-01</td>\n",
       "      <td>Association Leysin Danse</td>\n",
       "      <td>59.0</td>\n",
       "      <td>FFSV</td>\n",
       "      <td>2015-01-01</td>\n",
       "    </tr>\n",
       "  </tbody>\n",
       "</table>\n",
       "</div>"
      ],
      "text/plain": [
       "   details                       domaine        end               institution  \\\n",
       "43  NaN     2.-Camps sp., sp. scol. & CS 2016-01-01  Association Leysin Danse   \n",
       "\n",
       "    montant source      start  \n",
       "43  59.0     FFSV  2015-01-01  "
      ]
     },
     "execution_count": 1553,
     "metadata": {},
     "output_type": "execute_result"
    }
   ],
   "source": [
    "df[df['montant'] == df['montant'].min()]"
   ]
  },
  {
   "cell_type": "code",
   "execution_count": 1554,
   "metadata": {},
   "outputs": [
    {
     "data": {
      "text/html": [
       "<div>\n",
       "<style scoped>\n",
       "    .dataframe tbody tr th:only-of-type {\n",
       "        vertical-align: middle;\n",
       "    }\n",
       "\n",
       "    .dataframe tbody tr th {\n",
       "        vertical-align: top;\n",
       "    }\n",
       "\n",
       "    .dataframe thead th {\n",
       "        text-align: right;\n",
       "    }\n",
       "</style>\n",
       "<table border=\"1\" class=\"dataframe\">\n",
       "  <thead>\n",
       "    <tr style=\"text-align: right;\">\n",
       "      <th></th>\n",
       "      <th>details</th>\n",
       "      <th>domaine</th>\n",
       "      <th>end</th>\n",
       "      <th>institution</th>\n",
       "      <th>montant</th>\n",
       "      <th>source</th>\n",
       "      <th>start</th>\n",
       "    </tr>\n",
       "  </thead>\n",
       "  <tbody>\n",
       "    <tr>\n",
       "      <th>3401</th>\n",
       "      <td>NaN</td>\n",
       "      <td>9.-Centres sportifs</td>\n",
       "      <td>2017-01-01</td>\n",
       "      <td>Fdt Ruchonnet 18 - Avance pour paiment des factures de la Maison du sport vaud. à Leysin</td>\n",
       "      <td>5400000.0</td>\n",
       "      <td>FFSV</td>\n",
       "      <td>2016-01-01</td>\n",
       "    </tr>\n",
       "  </tbody>\n",
       "</table>\n",
       "</div>"
      ],
      "text/plain": [
       "     details              domaine        end  \\\n",
       "3401  NaN     9.-Centres sportifs 2017-01-01   \n",
       "\n",
       "                                                                                   institution  \\\n",
       "3401  Fdt Ruchonnet 18 - Avance pour paiment des factures de la Maison du sport vaud. à Leysin   \n",
       "\n",
       "        montant source      start  \n",
       "3401  5400000.0  FFSV  2016-01-01  "
      ]
     },
     "execution_count": 1554,
     "metadata": {},
     "output_type": "execute_result"
    }
   ],
   "source": [
    "df[df['montant'] == df['montant'].max()]"
   ]
  },
  {
   "cell_type": "markdown",
   "metadata": {},
   "source": [
    "## Search by exact terms"
   ]
  },
  {
   "cell_type": "code",
   "execution_count": 1603,
   "metadata": {},
   "outputs": [
    {
     "data": {
      "text/html": [
       "<div>\n",
       "<style scoped>\n",
       "    .dataframe tbody tr th:only-of-type {\n",
       "        vertical-align: middle;\n",
       "    }\n",
       "\n",
       "    .dataframe tbody tr th {\n",
       "        vertical-align: top;\n",
       "    }\n",
       "\n",
       "    .dataframe thead th {\n",
       "        text-align: right;\n",
       "    }\n",
       "</style>\n",
       "<table border=\"1\" class=\"dataframe\">\n",
       "  <thead>\n",
       "    <tr style=\"text-align: right;\">\n",
       "      <th></th>\n",
       "      <th>details</th>\n",
       "      <th>domaine</th>\n",
       "      <th>end</th>\n",
       "      <th>institution</th>\n",
       "      <th>montant</th>\n",
       "      <th>source</th>\n",
       "      <th>start</th>\n",
       "    </tr>\n",
       "  </thead>\n",
       "  <tbody>\n",
       "    <tr>\n",
       "      <th>567</th>\n",
       "      <td>Office du Tourisme du Canton de Vaud, Lausanne</td>\n",
       "      <td>Promotion, tourisme et développement</td>\n",
       "      <td>2013-01-01</td>\n",
       "      <td>Office du Tourisme du Canton de Vaud, Lausanne</td>\n",
       "      <td>1000000.0</td>\n",
       "      <td>Organe cantonal</td>\n",
       "      <td>2012-01-01</td>\n",
       "    </tr>\n",
       "    <tr>\n",
       "      <th>1197</th>\n",
       "      <td>Office du Tourisme du Canton de Vaud - OTV, Lausanne</td>\n",
       "      <td>Promotion, tourisme et développement</td>\n",
       "      <td>2017-01-01</td>\n",
       "      <td>Office du Tourisme du Canton de Vaud, Lausanne</td>\n",
       "      <td>1000000.0</td>\n",
       "      <td>Organe cantonal</td>\n",
       "      <td>2016-01-01</td>\n",
       "    </tr>\n",
       "    <tr>\n",
       "      <th>1829</th>\n",
       "      <td>Office du Tourisme du Canton de Vaud, Lausanne</td>\n",
       "      <td>Promotion, tourisme et développement</td>\n",
       "      <td>2015-01-01</td>\n",
       "      <td>Office du Tourisme du Canton de Vaud, Lausanne</td>\n",
       "      <td>1000000.0</td>\n",
       "      <td>Organe cantonal</td>\n",
       "      <td>2014-01-01</td>\n",
       "    </tr>\n",
       "    <tr>\n",
       "      <th>2448</th>\n",
       "      <td>Office du Tourisme du Canton de Vaud, Lausanne</td>\n",
       "      <td>Promotion, tourisme et développement</td>\n",
       "      <td>2016-01-01</td>\n",
       "      <td>Office du Tourisme du Canton de Vaud, Lausanne</td>\n",
       "      <td>1000000.0</td>\n",
       "      <td>Organe cantonal</td>\n",
       "      <td>2015-01-01</td>\n",
       "    </tr>\n",
       "    <tr>\n",
       "      <th>3091</th>\n",
       "      <td>Office du Tourisme du Canton de Vaud, Lausanne</td>\n",
       "      <td>Promotion, tourisme et développement</td>\n",
       "      <td>2014-01-01</td>\n",
       "      <td>Office du Tourisme du Canton de Vaud, Lausanne</td>\n",
       "      <td>1000000.0</td>\n",
       "      <td>Organe cantonal</td>\n",
       "      <td>2013-01-01</td>\n",
       "    </tr>\n",
       "  </tbody>\n",
       "</table>\n",
       "</div>"
      ],
      "text/plain": [
       "                                                   details  \\\n",
       "567   Office du Tourisme du Canton de Vaud, Lausanne         \n",
       "1197  Office du Tourisme du Canton de Vaud - OTV, Lausanne   \n",
       "1829  Office du Tourisme du Canton de Vaud, Lausanne         \n",
       "2448  Office du Tourisme du Canton de Vaud, Lausanne         \n",
       "3091  Office du Tourisme du Canton de Vaud, Lausanne         \n",
       "\n",
       "                                   domaine        end  \\\n",
       "567   Promotion, tourisme et développement 2013-01-01   \n",
       "1197  Promotion, tourisme et développement 2017-01-01   \n",
       "1829  Promotion, tourisme et développement 2015-01-01   \n",
       "2448  Promotion, tourisme et développement 2016-01-01   \n",
       "3091  Promotion, tourisme et développement 2014-01-01   \n",
       "\n",
       "                                         institution    montant  \\\n",
       "567   Office du Tourisme du Canton de Vaud, Lausanne  1000000.0   \n",
       "1197  Office du Tourisme du Canton de Vaud, Lausanne  1000000.0   \n",
       "1829  Office du Tourisme du Canton de Vaud, Lausanne  1000000.0   \n",
       "2448  Office du Tourisme du Canton de Vaud, Lausanne  1000000.0   \n",
       "3091  Office du Tourisme du Canton de Vaud, Lausanne  1000000.0   \n",
       "\n",
       "               source      start  \n",
       "567   Organe cantonal 2012-01-01  \n",
       "1197  Organe cantonal 2016-01-01  \n",
       "1829  Organe cantonal 2014-01-01  \n",
       "2448  Organe cantonal 2015-01-01  \n",
       "3091  Organe cantonal 2013-01-01  "
      ]
     },
     "execution_count": 1603,
     "metadata": {},
     "output_type": "execute_result"
    }
   ],
   "source": [
    "df[df['institution'] == \"Office du Tourisme du Canton de Vaud, Lausanne\"]"
   ]
  },
  {
   "cell_type": "markdown",
   "metadata": {},
   "source": [
    "## Text search"
   ]
  },
  {
   "cell_type": "code",
   "execution_count": 1612,
   "metadata": {},
   "outputs": [
    {
     "data": {
      "text/plain": [
       "3823    10000.0\n",
       "2482    20000.0\n",
       "2584    14000.0\n",
       "1037    34000.0\n",
       "3173    34000.0\n",
       "3174    34000.0\n",
       "Name: montant, dtype: float64"
      ]
     },
     "execution_count": 1612,
     "metadata": {},
     "output_type": "execute_result"
    }
   ],
   "source": [
    "df[df['institution'].str.contains(\"Montreux Volley Masters - Montreux Volley Masters\")][['institution', 'montant', 'start','domaine']].sort_values('start')['montant']"
   ]
  },
  {
   "cell_type": "code",
   "execution_count": 1611,
   "metadata": {},
   "outputs": [
    {
     "data": {
      "text/plain": [
       "163000"
      ]
     },
     "execution_count": 1611,
     "metadata": {},
     "output_type": "execute_result"
    }
   ],
   "source": [
    "146000+17000\n"
   ]
  },
  {
   "cell_type": "code",
   "execution_count": 1609,
   "metadata": {},
   "outputs": [
    {
     "data": {
      "text/html": [
       "<div>\n",
       "<style scoped>\n",
       "    .dataframe tbody tr th:only-of-type {\n",
       "        vertical-align: middle;\n",
       "    }\n",
       "\n",
       "    .dataframe tbody tr th {\n",
       "        vertical-align: top;\n",
       "    }\n",
       "\n",
       "    .dataframe thead th {\n",
       "        text-align: right;\n",
       "    }\n",
       "</style>\n",
       "<table border=\"1\" class=\"dataframe\">\n",
       "  <thead>\n",
       "    <tr style=\"text-align: right;\">\n",
       "      <th></th>\n",
       "      <th>details</th>\n",
       "      <th>domaine</th>\n",
       "      <th>end</th>\n",
       "      <th>institution</th>\n",
       "      <th>montant</th>\n",
       "      <th>source</th>\n",
       "      <th>start</th>\n",
       "    </tr>\n",
       "  </thead>\n",
       "  <tbody>\n",
       "    <tr>\n",
       "      <th>901</th>\n",
       "      <td>Association Numerik Games, Cheseaux-Noréaz</td>\n",
       "      <td>Promotion, tourisme et développement</td>\n",
       "      <td>2017-01-01</td>\n",
       "      <td>Association Numerik Games, Cheseaux-Noréaz</td>\n",
       "      <td>60000.0</td>\n",
       "      <td>Organe cantonal</td>\n",
       "      <td>2016-01-01</td>\n",
       "    </tr>\n",
       "  </tbody>\n",
       "</table>\n",
       "</div>"
      ],
      "text/plain": [
       "                                        details  \\\n",
       "901  Association Numerik Games, Cheseaux-Noréaz   \n",
       "\n",
       "                                  domaine        end  \\\n",
       "901  Promotion, tourisme et développement 2017-01-01   \n",
       "\n",
       "                                    institution  montant           source  \\\n",
       "901  Association Numerik Games, Cheseaux-Noréaz  60000.0  Organe cantonal   \n",
       "\n",
       "         start  \n",
       "901 2016-01-01  "
      ]
     },
     "execution_count": 1609,
     "metadata": {},
     "output_type": "execute_result"
    }
   ],
   "source": [
    "df[df['institution'].str.contains(\"Games\")]"
   ]
  },
  {
   "cell_type": "code",
   "execution_count": 1557,
   "metadata": {},
   "outputs": [
    {
     "data": {
      "text/plain": [
       "Culture                                 2063\n",
       "5.-Manifestation sportives              1553\n",
       "8.-FASV & Bourses                       431 \n",
       "2.-Camps sp., sp. scol. & CS            424 \n",
       "Action sociale / personnes âgées        396 \n",
       "4.-Matériel sportif                     331 \n",
       "3.-Locaux sportifs                      262 \n",
       "1.-Associations                         214 \n",
       "Jeunesse et éducation                   205 \n",
       "Santé et handicap                       205 \n",
       "6.-Clubs élites                         114 \n",
       "Promotion, tourisme et développement    92  \n",
       "Patrimoine                              86  \n",
       "Environnement                           56  \n",
       "7.-Dévelop. qualit. sport               40  \n",
       "Formation et recherche                  23  \n",
       "9.-Centres sportifs                     11  \n",
       "Extra sport                             4   \n",
       "extra_culture                           1   \n",
       "Name: domaine, dtype: int64"
      ]
     },
     "execution_count": 1557,
     "metadata": {},
     "output_type": "execute_result"
    }
   ],
   "source": [
    "df['domaine'].value_counts()"
   ]
  },
  {
   "cell_type": "markdown",
   "metadata": {},
   "source": [
    "## Plotting"
   ]
  },
  {
   "cell_type": "markdown",
   "metadata": {},
   "source": [
    "### Total amount shared by year"
   ]
  },
  {
   "cell_type": "code",
   "execution_count": 1558,
   "metadata": {},
   "outputs": [
    {
     "data": {
      "text/plain": [
       "start\n",
       "2012    43862198.30\n",
       "2013    47399857.11\n",
       "2014    46537532.76\n",
       "2015    43258905.16\n",
       "2016    54554247.71\n",
       "Name: montant, dtype: float64"
      ]
     },
     "execution_count": 1558,
     "metadata": {},
     "output_type": "execute_result"
    }
   ],
   "source": [
    "df.groupby(df['start'].dt.year)['montant'].sum()"
   ]
  },
  {
   "cell_type": "code",
   "execution_count": 1559,
   "metadata": {},
   "outputs": [],
   "source": [
    "gb = df.groupby(df['start'].dt.year)['montant'].sum()"
   ]
  },
  {
   "cell_type": "code",
   "execution_count": 1560,
   "metadata": {},
   "outputs": [],
   "source": [
    "gb = gb.apply(lambda x: x/1000000)"
   ]
  },
  {
   "cell_type": "code",
   "execution_count": 1561,
   "metadata": {},
   "outputs": [
    {
     "data": {
      "text/plain": [
       "start\n",
       "2012    43.862198\n",
       "2013    47.399857\n",
       "2014    46.537533\n",
       "2015    43.258905\n",
       "2016    54.554248\n",
       "Name: montant, dtype: float64"
      ]
     },
     "execution_count": 1561,
     "metadata": {},
     "output_type": "execute_result"
    }
   ],
   "source": [
    "gb"
   ]
  },
  {
   "cell_type": "code",
   "execution_count": 1562,
   "metadata": {},
   "outputs": [
    {
     "data": {
      "text/plain": [
       "<matplotlib.axes._subplots.AxesSubplot at 0x1244ea6a0>"
      ]
     },
     "execution_count": 1562,
     "metadata": {},
     "output_type": "execute_result"
    },
    {
     "data": {
      "image/png": "[encoded data removed]",
      "text/plain": [
       "<matplotlib.figure.Figure at 0x1249229e8>"
      ]
     },
     "metadata": {},
     "output_type": "display_data"
    }
   ],
   "source": [
    "gb.plot(title=\"Sommes attribuées en millions (2012-2016)\")"
   ]
  },
  {
   "cell_type": "markdown",
   "metadata": {},
   "source": [
    "## One institution plot"
   ]
  },
  {
   "cell_type": "code",
   "execution_count": 1563,
   "metadata": {},
   "outputs": [
    {
     "name": "stderr",
     "output_type": "stream",
     "text": [
      "/usr/local/Cellar/python3/3.6.4_2/Frameworks/Python.framework/Versions/3.6/lib/python3.6/site-packages/ipykernel_launcher.py:2: SettingWithCopyWarning: \n",
      "A value is trying to be set on a copy of a slice from a DataFrame.\n",
      "Try using .loc[row_indexer,col_indexer] = value instead\n",
      "\n",
      "See the caveats in the documentation: http://pandas.pydata.org/pandas-docs/stable/indexing.html#indexing-view-versus-copy\n",
      "  \n"
     ]
    },
    {
     "data": {
      "text/plain": [
       "<matplotlib.axes._subplots.AxesSubplot at 0x1208a2d68>"
      ]
     },
     "execution_count": 1563,
     "metadata": {},
     "output_type": "execute_result"
    },
    {
     "data": {
      "image/png": "[encoded data removed]",
      "text/plain": [
       "<matplotlib.figure.Figure at 0x1244cd518>"
      ]
     },
     "metadata": {},
     "output_type": "display_data"
    }
   ],
   "source": [
    "mjf = df[df['institution'] == \"Fond. Montreux Jazz Artists, Montreux\"]\n",
    "mjf['year'] = mjf['start'].apply(lambda x:x.year)\n",
    "mjf.sort_values('year').plot(x='year', y='montant')"
   ]
  },
  {
   "cell_type": "code",
   "execution_count": 1564,
   "metadata": {},
   "outputs": [
    {
     "data": {
      "text/plain": [
       "<matplotlib.axes._subplots.AxesSubplot at 0x124612eb8>"
      ]
     },
     "execution_count": 1564,
     "metadata": {},
     "output_type": "execute_result"
    },
    {
     "data": {
      "image/png": "[encoded data removed]",
      "text/plain": [
       "<matplotlib.figure.Figure at 0x1244cd7b8>"
      ]
     },
     "metadata": {},
     "output_type": "display_data"
    }
   ],
   "source": [
    "ddf = df.set_index(df[\"start\"])\n",
    "ddf['montant'].resample(\"A\").sum().plot()"
   ]
  },
  {
   "cell_type": "code",
   "execution_count": 1565,
   "metadata": {},
   "outputs": [
    {
     "data": {
      "text/plain": [
       "<matplotlib.axes._subplots.AxesSubplot at 0x124a4d668>"
      ]
     },
     "execution_count": 1565,
     "metadata": {},
     "output_type": "execute_result"
    },
    {
     "data": {
      "image/png": "[encoded data removed]",
      "text/plain": [
       "<matplotlib.figure.Figure at 0x128788a90>"
      ]
     },
     "metadata": {},
     "output_type": "display_data"
    }
   ],
   "source": [
    "ddf[ddf[\"institution\"] == \"Fond. Montreux Jazz Artists, Montreux\"]['montant'].resample(\"A\").sum().plot()\n",
    "ddf[ddf[\"institution\"] == \"Fdt Ruchonnet 18 - Avance pour paiment des factures de la Maison du sport vaud. à Leysin\"]['montant'].resample(\"A\").sum().plot()"
   ]
  },
  {
   "cell_type": "code",
   "execution_count": 1566,
   "metadata": {},
   "outputs": [
    {
     "data": {
      "text/plain": [
       "institution\n",
       "1066 festival, Epalinges                                                                                                    AxesSubplot(0.125,0.2;0.775x0.68)\n",
       "20 KM de Lausanne                                                                                                           AxesSubplot(0.125,0.2;0.775x0.68)\n",
       "4 Roues de Secours et Services Bénévoles de Vevey et Environs, Vevey                                                        AxesSubplot(0.125,0.2;0.775x0.68)\n",
       "49ème Fête Cantonale des Chanteurs Vaudois Echallens 2017, Bottens                                                          AxesSubplot(0.125,0.2;0.775x0.68)\n",
       "ABCE - Assoc. des Amis de Bernard Campiche Editeur, La Roche FR                                                             AxesSubplot(0.125,0.2;0.775x0.68)\n",
       "ABL Mobilité, Prilly                                                                                                        AxesSubplot(0.125,0.2;0.775x0.68)\n",
       "ABL Mobilité, Renens                                                                                                        AxesSubplot(0.125,0.2;0.775x0.68)\n",
       "ABS - Fond. pour un Accueil à Bas Seuil / Le Passage, Lausanne                                                              AxesSubplot(0.125,0.2;0.775x0.68)\n",
       "ACVF (Georges Guinand) - Inscription au repas de soutien en fauer des Graines de foot 2012                                  AxesSubplot(0.125,0.2;0.775x0.68)\n",
       "ACVF - Commission technique juniors - Repas-spectacle de soutien pour \"Graines de foot\"  à Servion                          AxesSubplot(0.125,0.2;0.775x0.68)\n",
       "ACVG - Centre Romand du Sport-Elite - Aigle - Achat d'un nouveau trampoline et de tables de trampoline                      AxesSubplot(0.125,0.2;0.775x0.68)\n",
       "ACVIE - Association cantonale vaudoise des installateurs-électriciens, Tolochenaz                                           AxesSubplot(0.125,0.2;0.775x0.68)\n",
       "ADSS - Association des studios subventionnés, Lausanne                                                                      AxesSubplot(0.125,0.2;0.775x0.68)\n",
       "AFIRO Institution pour handicapés, Ecublens                                                                                 AxesSubplot(0.125,0.2;0.775x0.68)\n",
       "AFJD - Association pour la Formation de Jeunes Danseurs, Lausanne                                                           AxesSubplot(0.125,0.2;0.775x0.68)\n",
       "AIGC - Assoc.  Interrégionale de Gestions et Comptabilités, Le Mont-s-Lausanne                                              AxesSubplot(0.125,0.2;0.775x0.68)\n",
       "AIGC - Association  Interrégionale de Gestions et Comptabilités, Le Mont-sur-Lausanne                                       AxesSubplot(0.125,0.2;0.775x0.68)\n",
       "AIGROZ Mike - 1660 Château-d'Œx - Bourse du Fonds du sport vaudois                                                          AxesSubplot(0.125,0.2;0.775x0.68)\n",
       "ALBINFO.CH , Lausanne                                                                                                       AxesSubplot(0.125,0.2;0.775x0.68)\n",
       "ALOISIO Andrea - 1008 Prilly                                                                                                AxesSubplot(0.125,0.2;0.775x0.68)\n",
       "ALTA - Association pour un lieu de théâtre à Aubonne, Pizy                                                                  AxesSubplot(0.125,0.2;0.775x0.68)\n",
       "AMABILIS - Orchestre de Chambre de St-Paul, Lausanne                                                                        AxesSubplot(0.125,0.2;0.775x0.68)\n",
       "APROMAD - Assoc. pour la promotion de la santé et le maintien à domicile Couronne lausannoise, Le Mont-sur-Lausanne         AxesSubplot(0.125,0.2;0.775x0.68)\n",
       "APROMAD - Association pour la promotion de la santé et le maintien à domicile Couronne lausannoise, Le Mont-sur-Lausanne    AxesSubplot(0.125,0.2;0.775x0.68)\n",
       "APSIP - Association pour les structures intermédiaires psychiatriques du Nord Vaudois, Yverdon-les-Bains                    AxesSubplot(0.125,0.2;0.775x0.68)\n",
       "ARPEGE - Association pour la Recherche et la Promotion en Etablissements Gérontopsychiatriques, Prilly                      AxesSubplot(0.125,0.2;0.775x0.68)\n",
       "AS Haute-Broye - Achat d'un but de football mobile pour le terrain d'entraînement de Montelly à Palézieux                   AxesSubplot(0.125,0.2;0.775x0.68)\n",
       "ASANTE SANA - Assoc. pour l'aide, les soins à domicile et la prévention de l'Est Vaudois, Montreux                          AxesSubplot(0.125,0.2;0.775x0.68)\n",
       "ASCI - Association de soutien de la Compagnie Igokat, Lausanne                                                              AxesSubplot(0.125,0.2;0.775x0.68)\n",
       "ASCREA - Assoc. pour la création d'événements artistiques à la Vallée de Joux, Le Sentier                                   AxesSubplot(0.125,0.2;0.775x0.68)\n",
       "                                                                                                                                          ...                \n",
       "Vélo-Club Chailly - Championnats romands de contre la montre                                                                AxesSubplot(0.125,0.2;0.775x0.68)\n",
       "Vélo-Club Echallens                                                                                                         AxesSubplot(0.125,0.2;0.775x0.68)\n",
       "Vélo-Club Payerne                                                                                                           AxesSubplot(0.125,0.2;0.775x0.68)\n",
       "Vélo-Club Vallorbe                                                                                                          AxesSubplot(0.125,0.2;0.775x0.68)\n",
       "Vélo-Club de la Police Cantonale Vaudoise                                                                                   AxesSubplot(0.125,0.2;0.775x0.68)\n",
       "Véronique Curchod - Participation au Championnat d'Europe d'endurance équestre 2015 en Slovaquie                            AxesSubplot(0.125,0.2;0.775x0.68)\n",
       "WOC Lausanne 2012 - Championnats du Monde de Course d'orientation Lausanne 2012                                             AxesSubplot(0.125,0.2;0.775x0.68)\n",
       "WYSS Danilo - 1470 Estavayer-le-Lac - Bourse du Fonds du sport vaudois                                                      AxesSubplot(0.125,0.2;0.775x0.68)\n",
       "Wagen Kilian, La Tour-de-Peilz - Voile -  Bourse du Fonds du sport vaudois                                                  AxesSubplot(0.125,0.2;0.775x0.68)\n",
       "Wakeboard Attitude - Manche du \"Come & Ride Tour\", compét. régionale de wakeboard à Yvonand                                 AxesSubplot(0.125,0.2;0.775x0.68)\n",
       "Wave, Carouge                                                                                                               AxesSubplot(0.125,0.2;0.775x0.68)\n",
       "West Handball Club                                                                                                          AxesSubplot(0.125,0.2;0.775x0.68)\n",
       "What if Theatre Company, Lausanne                                                                                           AxesSubplot(0.125,0.2;0.775x0.68)\n",
       "Wolf Cauwenberghe - Part. au Championnat du monde IODA 2012 en République Dominicaine                                       AxesSubplot(0.125,0.2;0.775x0.68)\n",
       "Wolf Van Cauwenberghe - Participation au Championnat du monde d'Optimist 2013 en Italie                                     AxesSubplot(0.125,0.2;0.775x0.68)\n",
       "World Volleyball & Beach Volleyball Fed. - Champ. du monde junior & senior de beach volley à Vevey                          AxesSubplot(0.125,0.2;0.775x0.68)\n",
       "Wysam 333 - cyclosportive Wysam 333                                                                                         AxesSubplot(0.125,0.2;0.775x0.68)\n",
       "Xterra Switzerland - 3ème triathlon Xterra Switzerland à Prangins                                                           AxesSubplot(0.125,0.2;0.775x0.68)\n",
       "Yapluka...CH, Nyon                                                                                                          AxesSubplot(0.125,0.2;0.775x0.68)\n",
       "Yokoyama Sofya, Rolle - Escalade sportive - Bourse du Fonds du sport vaudois                                                AxesSubplot(0.125,0.2;0.775x0.68)\n",
       "Yverdon FC - Soutien aux clubs élites (reversé à Team Vaud Foot)                                                            AxesSubplot(0.125,0.2;0.775x0.68)\n",
       "Zahn Damien, Renens - Deltaplane -  Bourse du Fonds du sport vaudois                                                        AxesSubplot(0.125,0.2;0.775x0.68)\n",
       "Zarti cirque                                                                                                                AxesSubplot(0.125,0.2;0.775x0.68)\n",
       "Zecca Donato, Jougne (F) - Karaté - Bourse du Fonds du sport vaudois                                                        AxesSubplot(0.125,0.2;0.775x0.68)\n",
       "Zef Gjolaj - Participation au Championnat d'Europe 2014 des clubs de taekwondo à Antalya (Turquie)                          AxesSubplot(0.125,0.2;0.775x0.68)\n",
       "Zen Do Ryu - Championnats suisses de ju-jitsu et kata à Morges                                                              AxesSubplot(0.125,0.2;0.775x0.68)\n",
       "Zen Do Ryu - Club d'arts martiaux - Morges - Achat d'une nouvelle surface de tatamis de judo                                AxesSubplot(0.125,0.2;0.775x0.68)\n",
       "Zen Do Ryu - Morges                                                                                                         AxesSubplot(0.125,0.2;0.775x0.68)\n",
       "Zooler Bryan, Le Sentier - Ski Freestyle-Skicross - Bourse du Fonds du sport vaudois                                        AxesSubplot(0.125,0.2;0.775x0.68)\n",
       "Zuberi Flamur, Clarens - Taekwondo - Bourse du Fonds du sport vaudois                                                       AxesSubplot(0.125,0.2;0.775x0.68)\n",
       "Name: montant, Length: 3497, dtype: object"
      ]
     },
     "execution_count": 1566,
     "metadata": {},
     "output_type": "execute_result"
    },
    {
     "data": {
      "image/png": "[encoded data removed]",
      "text/plain": [
       "<matplotlib.figure.Figure at 0x120978c88>"
      ]
     },
     "metadata": {},
     "output_type": "display_data"
    }
   ],
   "source": [
    "ddf.groupby(\"institution\")[\"montant\"].plot()"
   ]
  },
  {
   "cell_type": "markdown",
   "metadata": {},
   "source": [
    "### Yearly evolution of top 10 receivers"
   ]
  },
  {
   "cell_type": "code",
   "execution_count": 1567,
   "metadata": {},
   "outputs": [],
   "source": [
    "df['start'] = pd.to_datetime(df['start'], format = \"%Y-%m-%d\")"
   ]
  },
  {
   "cell_type": "code",
   "execution_count": 1568,
   "metadata": {},
   "outputs": [],
   "source": [
    "def getEvolution(institution):\n",
    "    ev = df[df['institution'] == institution]\n",
    "    ev['year'] = ev['start'].apply(lambda x:x.year)\n",
    "    plot = ev.sort_values('year').plot(x='year', y='montant', title = 'this title', kind='bar')\n",
    "    return plot"
   ]
  },
  {
   "cell_type": "code",
   "execution_count": 1569,
   "metadata": {},
   "outputs": [
    {
     "ename": "TypeError",
     "evalue": "Empty 'DataFrame': no numeric data to plot",
     "output_type": "error",
     "traceback": [
      "\u001b[0;31m---------------------------------------------------------------------------\u001b[0m",
      "\u001b[0;31mTypeError\u001b[0m                                 Traceback (most recent call last)",
      "\u001b[0;32m<ipython-input-1569-b819ceff9e4c>\u001b[0m in \u001b[0;36m<module>\u001b[0;34m()\u001b[0m\n\u001b[0;32m----> 1\u001b[0;31m \u001b[0mgetEvolution\u001b[0m\u001b[0;34m(\u001b[0m\u001b[0;34m'Athlétissima'\u001b[0m\u001b[0;34m)\u001b[0m\u001b[0;34m\u001b[0m\u001b[0m\n\u001b[0m",
      "\u001b[0;32m<ipython-input-1568-a0986248da3f>\u001b[0m in \u001b[0;36mgetEvolution\u001b[0;34m(institution)\u001b[0m\n\u001b[1;32m      2\u001b[0m     \u001b[0mev\u001b[0m \u001b[0;34m=\u001b[0m \u001b[0mdf\u001b[0m\u001b[0;34m[\u001b[0m\u001b[0mdf\u001b[0m\u001b[0;34m[\u001b[0m\u001b[0;34m'institution'\u001b[0m\u001b[0;34m]\u001b[0m \u001b[0;34m==\u001b[0m \u001b[0minstitution\u001b[0m\u001b[0;34m]\u001b[0m\u001b[0;34m\u001b[0m\u001b[0m\n\u001b[1;32m      3\u001b[0m     \u001b[0mev\u001b[0m\u001b[0;34m[\u001b[0m\u001b[0;34m'year'\u001b[0m\u001b[0;34m]\u001b[0m \u001b[0;34m=\u001b[0m \u001b[0mev\u001b[0m\u001b[0;34m[\u001b[0m\u001b[0;34m'start'\u001b[0m\u001b[0;34m]\u001b[0m\u001b[0;34m.\u001b[0m\u001b[0mapply\u001b[0m\u001b[0;34m(\u001b[0m\u001b[0;32mlambda\u001b[0m \u001b[0mx\u001b[0m\u001b[0;34m:\u001b[0m\u001b[0mx\u001b[0m\u001b[0;34m.\u001b[0m\u001b[0myear\u001b[0m\u001b[0;34m)\u001b[0m\u001b[0;34m\u001b[0m\u001b[0m\n\u001b[0;32m----> 4\u001b[0;31m     \u001b[0mplot\u001b[0m \u001b[0;34m=\u001b[0m \u001b[0mev\u001b[0m\u001b[0;34m.\u001b[0m\u001b[0msort_values\u001b[0m\u001b[0;34m(\u001b[0m\u001b[0;34m'year'\u001b[0m\u001b[0;34m)\u001b[0m\u001b[0;34m.\u001b[0m\u001b[0mplot\u001b[0m\u001b[0;34m(\u001b[0m\u001b[0mx\u001b[0m\u001b[0;34m=\u001b[0m\u001b[0;34m'year'\u001b[0m\u001b[0;34m,\u001b[0m \u001b[0my\u001b[0m\u001b[0;34m=\u001b[0m\u001b[0;34m'montant'\u001b[0m\u001b[0;34m,\u001b[0m \u001b[0mtitle\u001b[0m \u001b[0;34m=\u001b[0m \u001b[0;34m'this title'\u001b[0m\u001b[0;34m,\u001b[0m \u001b[0mkind\u001b[0m\u001b[0;34m=\u001b[0m\u001b[0;34m'bar'\u001b[0m\u001b[0;34m)\u001b[0m\u001b[0;34m\u001b[0m\u001b[0m\n\u001b[0m\u001b[1;32m      5\u001b[0m     \u001b[0;32mreturn\u001b[0m \u001b[0mplot\u001b[0m\u001b[0;34m\u001b[0m\u001b[0m\n",
      "\u001b[0;32m/usr/local/Cellar/python3/3.6.4_2/Frameworks/Python.framework/Versions/3.6/lib/python3.6/site-packages/pandas/plotting/_core.py\u001b[0m in \u001b[0;36m__call__\u001b[0;34m(self, x, y, kind, ax, subplots, sharex, sharey, layout, figsize, use_index, title, grid, legend, style, logx, logy, loglog, xticks, yticks, xlim, ylim, rot, fontsize, colormap, table, yerr, xerr, secondary_y, sort_columns, **kwds)\u001b[0m\n\u001b[1;32m   2675\u001b[0m                           \u001b[0mfontsize\u001b[0m\u001b[0;34m=\u001b[0m\u001b[0mfontsize\u001b[0m\u001b[0;34m,\u001b[0m \u001b[0mcolormap\u001b[0m\u001b[0;34m=\u001b[0m\u001b[0mcolormap\u001b[0m\u001b[0;34m,\u001b[0m \u001b[0mtable\u001b[0m\u001b[0;34m=\u001b[0m\u001b[0mtable\u001b[0m\u001b[0;34m,\u001b[0m\u001b[0;34m\u001b[0m\u001b[0m\n\u001b[1;32m   2676\u001b[0m                           \u001b[0myerr\u001b[0m\u001b[0;34m=\u001b[0m\u001b[0myerr\u001b[0m\u001b[0;34m,\u001b[0m \u001b[0mxerr\u001b[0m\u001b[0;34m=\u001b[0m\u001b[0mxerr\u001b[0m\u001b[0;34m,\u001b[0m \u001b[0msecondary_y\u001b[0m\u001b[0;34m=\u001b[0m\u001b[0msecondary_y\u001b[0m\u001b[0;34m,\u001b[0m\u001b[0;34m\u001b[0m\u001b[0m\n\u001b[0;32m-> 2677\u001b[0;31m                           sort_columns=sort_columns, **kwds)\n\u001b[0m\u001b[1;32m   2678\u001b[0m     \u001b[0m__call__\u001b[0m\u001b[0;34m.\u001b[0m\u001b[0m__doc__\u001b[0m \u001b[0;34m=\u001b[0m \u001b[0mplot_frame\u001b[0m\u001b[0;34m.\u001b[0m\u001b[0m__doc__\u001b[0m\u001b[0;34m\u001b[0m\u001b[0m\n\u001b[1;32m   2679\u001b[0m \u001b[0;34m\u001b[0m\u001b[0m\n",
      "\u001b[0;32m/usr/local/Cellar/python3/3.6.4_2/Frameworks/Python.framework/Versions/3.6/lib/python3.6/site-packages/pandas/plotting/_core.py\u001b[0m in \u001b[0;36mplot_frame\u001b[0;34m(data, x, y, kind, ax, subplots, sharex, sharey, layout, figsize, use_index, title, grid, legend, style, logx, logy, loglog, xticks, yticks, xlim, ylim, rot, fontsize, colormap, table, yerr, xerr, secondary_y, sort_columns, **kwds)\u001b[0m\n\u001b[1;32m   1900\u001b[0m                  \u001b[0myerr\u001b[0m\u001b[0;34m=\u001b[0m\u001b[0myerr\u001b[0m\u001b[0;34m,\u001b[0m \u001b[0mxerr\u001b[0m\u001b[0;34m=\u001b[0m\u001b[0mxerr\u001b[0m\u001b[0;34m,\u001b[0m\u001b[0;34m\u001b[0m\u001b[0m\n\u001b[1;32m   1901\u001b[0m                  \u001b[0msecondary_y\u001b[0m\u001b[0;34m=\u001b[0m\u001b[0msecondary_y\u001b[0m\u001b[0;34m,\u001b[0m \u001b[0msort_columns\u001b[0m\u001b[0;34m=\u001b[0m\u001b[0msort_columns\u001b[0m\u001b[0;34m,\u001b[0m\u001b[0;34m\u001b[0m\u001b[0m\n\u001b[0;32m-> 1902\u001b[0;31m                  **kwds)\n\u001b[0m\u001b[1;32m   1903\u001b[0m \u001b[0;34m\u001b[0m\u001b[0m\n\u001b[1;32m   1904\u001b[0m \u001b[0;34m\u001b[0m\u001b[0m\n",
      "\u001b[0;32m/usr/local/Cellar/python3/3.6.4_2/Frameworks/Python.framework/Versions/3.6/lib/python3.6/site-packages/pandas/plotting/_core.py\u001b[0m in \u001b[0;36m_plot\u001b[0;34m(data, x, y, subplots, ax, kind, **kwds)\u001b[0m\n\u001b[1;32m   1727\u001b[0m         \u001b[0mplot_obj\u001b[0m \u001b[0;34m=\u001b[0m \u001b[0mklass\u001b[0m\u001b[0;34m(\u001b[0m\u001b[0mdata\u001b[0m\u001b[0;34m,\u001b[0m \u001b[0msubplots\u001b[0m\u001b[0;34m=\u001b[0m\u001b[0msubplots\u001b[0m\u001b[0;34m,\u001b[0m \u001b[0max\u001b[0m\u001b[0;34m=\u001b[0m\u001b[0max\u001b[0m\u001b[0;34m,\u001b[0m \u001b[0mkind\u001b[0m\u001b[0;34m=\u001b[0m\u001b[0mkind\u001b[0m\u001b[0;34m,\u001b[0m \u001b[0;34m**\u001b[0m\u001b[0mkwds\u001b[0m\u001b[0;34m)\u001b[0m\u001b[0;34m\u001b[0m\u001b[0m\n\u001b[1;32m   1728\u001b[0m \u001b[0;34m\u001b[0m\u001b[0m\n\u001b[0;32m-> 1729\u001b[0;31m     \u001b[0mplot_obj\u001b[0m\u001b[0;34m.\u001b[0m\u001b[0mgenerate\u001b[0m\u001b[0;34m(\u001b[0m\u001b[0;34m)\u001b[0m\u001b[0;34m\u001b[0m\u001b[0m\n\u001b[0m\u001b[1;32m   1730\u001b[0m     \u001b[0mplot_obj\u001b[0m\u001b[0;34m.\u001b[0m\u001b[0mdraw\u001b[0m\u001b[0;34m(\u001b[0m\u001b[0;34m)\u001b[0m\u001b[0;34m\u001b[0m\u001b[0m\n\u001b[1;32m   1731\u001b[0m     \u001b[0;32mreturn\u001b[0m \u001b[0mplot_obj\u001b[0m\u001b[0;34m.\u001b[0m\u001b[0mresult\u001b[0m\u001b[0;34m\u001b[0m\u001b[0m\n",
      "\u001b[0;32m/usr/local/Cellar/python3/3.6.4_2/Frameworks/Python.framework/Versions/3.6/lib/python3.6/site-packages/pandas/plotting/_core.py\u001b[0m in \u001b[0;36mgenerate\u001b[0;34m(self)\u001b[0m\n\u001b[1;32m    248\u001b[0m     \u001b[0;32mdef\u001b[0m \u001b[0mgenerate\u001b[0m\u001b[0;34m(\u001b[0m\u001b[0mself\u001b[0m\u001b[0;34m)\u001b[0m\u001b[0;34m:\u001b[0m\u001b[0;34m\u001b[0m\u001b[0m\n\u001b[1;32m    249\u001b[0m         \u001b[0mself\u001b[0m\u001b[0;34m.\u001b[0m\u001b[0m_args_adjust\u001b[0m\u001b[0;34m(\u001b[0m\u001b[0;34m)\u001b[0m\u001b[0;34m\u001b[0m\u001b[0m\n\u001b[0;32m--> 250\u001b[0;31m         \u001b[0mself\u001b[0m\u001b[0;34m.\u001b[0m\u001b[0m_compute_plot_data\u001b[0m\u001b[0;34m(\u001b[0m\u001b[0;34m)\u001b[0m\u001b[0;34m\u001b[0m\u001b[0m\n\u001b[0m\u001b[1;32m    251\u001b[0m         \u001b[0mself\u001b[0m\u001b[0;34m.\u001b[0m\u001b[0m_setup_subplots\u001b[0m\u001b[0;34m(\u001b[0m\u001b[0;34m)\u001b[0m\u001b[0;34m\u001b[0m\u001b[0m\n\u001b[1;32m    252\u001b[0m         \u001b[0mself\u001b[0m\u001b[0;34m.\u001b[0m\u001b[0m_make_plot\u001b[0m\u001b[0;34m(\u001b[0m\u001b[0;34m)\u001b[0m\u001b[0;34m\u001b[0m\u001b[0m\n",
      "\u001b[0;32m/usr/local/Cellar/python3/3.6.4_2/Frameworks/Python.framework/Versions/3.6/lib/python3.6/site-packages/pandas/plotting/_core.py\u001b[0m in \u001b[0;36m_compute_plot_data\u001b[0;34m(self)\u001b[0m\n\u001b[1;32m    363\u001b[0m         \u001b[0;32mif\u001b[0m \u001b[0mis_empty\u001b[0m\u001b[0;34m:\u001b[0m\u001b[0;34m\u001b[0m\u001b[0m\n\u001b[1;32m    364\u001b[0m             raise TypeError('Empty {0!r}: no numeric data to '\n\u001b[0;32m--> 365\u001b[0;31m                             'plot'.format(numeric_data.__class__.__name__))\n\u001b[0m\u001b[1;32m    366\u001b[0m \u001b[0;34m\u001b[0m\u001b[0m\n\u001b[1;32m    367\u001b[0m         \u001b[0mself\u001b[0m\u001b[0;34m.\u001b[0m\u001b[0mdata\u001b[0m \u001b[0;34m=\u001b[0m \u001b[0mnumeric_data\u001b[0m\u001b[0;34m\u001b[0m\u001b[0m\n",
      "\u001b[0;31mTypeError\u001b[0m: Empty 'DataFrame': no numeric data to plot"
     ]
    }
   ],
   "source": [
    "getEvolution('Athlétissima')"
   ]
  },
  {
   "cell_type": "code",
   "execution_count": null,
   "metadata": {},
   "outputs": [],
   "source": [
    "df[df['institution'] == \"Athlétissima\"]"
   ]
  },
  {
   "cell_type": "code",
   "execution_count": null,
   "metadata": {},
   "outputs": [],
   "source": [
    "topten = list(df_sum[:10]['institution'])\n",
    "for top in topten:\n",
    "    getEvolution(top)"
   ]
  },
  {
   "cell_type": "code",
   "execution_count": null,
   "metadata": {},
   "outputs": [],
   "source": [
    "ddf.groupby(\"institution\")[\"montant\"].plot()"
   ]
  }
 ],
 "metadata": {
  "kernelspec": {
   "display_name": "Python 3",
   "language": "python",
   "name": "python3"
  },
  "language_info": {
   "codemirror_mode": {
    "name": "ipython",
    "version": 3
   },
   "file_extension": ".py",
   "mimetype": "text/x-python",
   "name": "python",
   "nbconvert_exporter": "python",
   "pygments_lexer": "ipython3",
   "version": "3.6.4"
  }
 },
 "nbformat": 4,
 "nbformat_minor": 2
}
